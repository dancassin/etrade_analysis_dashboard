{
 "cells": [
  {
   "cell_type": "markdown",
   "metadata": {},
   "source": [
    "# File Download"
   ]
  },
  {
   "cell_type": "code",
   "execution_count": 1,
   "metadata": {},
   "outputs": [],
   "source": [
    "import pandas as pd\n",
    "import numpy as np\n",
    "\n",
    "import datetime"
   ]
  },
  {
   "cell_type": "code",
   "execution_count": 2,
   "metadata": {},
   "outputs": [],
   "source": [
    "DATE = \"070722\"  # MMDDYY\n",
    "FILEPATH = f\"./data/TTM_tax_lots_{DATE}.csv\"\n"
   ]
  },
  {
   "cell_type": "code",
   "execution_count": 25,
   "metadata": {},
   "outputs": [
    {
     "data": {
      "text/html": [
       "<div>\n",
       "<style scoped>\n",
       "    .dataframe tbody tr th:only-of-type {\n",
       "        vertical-align: middle;\n",
       "    }\n",
       "\n",
       "    .dataframe tbody tr th {\n",
       "        vertical-align: top;\n",
       "    }\n",
       "\n",
       "    .dataframe thead th {\n",
       "        text-align: right;\n",
       "    }\n",
       "</style>\n",
       "<table border=\"1\" class=\"dataframe\">\n",
       "  <thead>\n",
       "    <tr style=\"text-align: right;\">\n",
       "      <th></th>\n",
       "      <th>Symbol</th>\n",
       "      <th>Quantity</th>\n",
       "      <th>Date</th>\n",
       "      <th>Cost/Share $</th>\n",
       "      <th>Total Cost $</th>\n",
       "      <th>Date.1</th>\n",
       "      <th>Price/Share $</th>\n",
       "      <th>Proceeds $</th>\n",
       "      <th>Gain $</th>\n",
       "    </tr>\n",
       "  </thead>\n",
       "  <tbody>\n",
       "    <tr>\n",
       "      <th>0</th>\n",
       "      <td>AAPL</td>\n",
       "      <td>35.0</td>\n",
       "      <td>--</td>\n",
       "      <td>--</td>\n",
       "      <td>4684.72</td>\n",
       "      <td>--</td>\n",
       "      <td>--</td>\n",
       "      <td>5119.857505</td>\n",
       "      <td>435.13</td>\n",
       "    </tr>\n",
       "    <tr>\n",
       "      <th>1</th>\n",
       "      <td>Sell</td>\n",
       "      <td>20.0</td>\n",
       "      <td>06/16/2021</td>\n",
       "      <td>130.09</td>\n",
       "      <td>2601.75</td>\n",
       "      <td>07/16/2021</td>\n",
       "      <td>146.28</td>\n",
       "      <td>2925.632860</td>\n",
       "      <td>323.88</td>\n",
       "    </tr>\n",
       "    <tr>\n",
       "      <th>2</th>\n",
       "      <td>Sell</td>\n",
       "      <td>15.0</td>\n",
       "      <td>07/02/2021</td>\n",
       "      <td>138.86</td>\n",
       "      <td>2082.98</td>\n",
       "      <td>07/16/2021</td>\n",
       "      <td>146.28</td>\n",
       "      <td>2194.224645</td>\n",
       "      <td>111.25</td>\n",
       "    </tr>\n",
       "    <tr>\n",
       "      <th>3</th>\n",
       "      <td>ABNB</td>\n",
       "      <td>25.0</td>\n",
       "      <td>--</td>\n",
       "      <td>--</td>\n",
       "      <td>4362.50</td>\n",
       "      <td>--</td>\n",
       "      <td>--</td>\n",
       "      <td>4827.270000</td>\n",
       "      <td>464.77</td>\n",
       "    </tr>\n",
       "    <tr>\n",
       "      <th>4</th>\n",
       "      <td>Sell</td>\n",
       "      <td>10.0</td>\n",
       "      <td>11/01/2021</td>\n",
       "      <td>174.50</td>\n",
       "      <td>1745.00</td>\n",
       "      <td>11/05/2021</td>\n",
       "      <td>195.00</td>\n",
       "      <td>1949.990000</td>\n",
       "      <td>204.99</td>\n",
       "    </tr>\n",
       "    <tr>\n",
       "      <th>...</th>\n",
       "      <td>...</td>\n",
       "      <td>...</td>\n",
       "      <td>...</td>\n",
       "      <td>...</td>\n",
       "      <td>...</td>\n",
       "      <td>...</td>\n",
       "      <td>...</td>\n",
       "      <td>...</td>\n",
       "      <td>...</td>\n",
       "    </tr>\n",
       "    <tr>\n",
       "      <th>412</th>\n",
       "      <td>Sell</td>\n",
       "      <td>50.0</td>\n",
       "      <td>08/24/2021</td>\n",
       "      <td>49.85</td>\n",
       "      <td>2492.50</td>\n",
       "      <td>08/30/2021</td>\n",
       "      <td>46.75</td>\n",
       "      <td>2337.479800</td>\n",
       "      <td>-155.02</td>\n",
       "    </tr>\n",
       "    <tr>\n",
       "      <th>413</th>\n",
       "      <td>Sell</td>\n",
       "      <td>50.0</td>\n",
       "      <td>10/14/2021</td>\n",
       "      <td>40.00</td>\n",
       "      <td>2000.00</td>\n",
       "      <td>10/27/2021</td>\n",
       "      <td>41.65</td>\n",
       "      <td>2082.470000</td>\n",
       "      <td>82.47</td>\n",
       "    </tr>\n",
       "    <tr>\n",
       "      <th>414</th>\n",
       "      <td>Z</td>\n",
       "      <td>75.0</td>\n",
       "      <td>--</td>\n",
       "      <td>--</td>\n",
       "      <td>4319.25</td>\n",
       "      <td>--</td>\n",
       "      <td>--</td>\n",
       "      <td>4155.150015</td>\n",
       "      <td>-164.10</td>\n",
       "    </tr>\n",
       "    <tr>\n",
       "      <th>415</th>\n",
       "      <td>Sell</td>\n",
       "      <td>35.0</td>\n",
       "      <td>12/23/2021</td>\n",
       "      <td>62.55</td>\n",
       "      <td>2189.25</td>\n",
       "      <td>01/05/2022</td>\n",
       "      <td>58.72</td>\n",
       "      <td>2055.180015</td>\n",
       "      <td>-134.07</td>\n",
       "    </tr>\n",
       "    <tr>\n",
       "      <th>416</th>\n",
       "      <td>Sell</td>\n",
       "      <td>40.0</td>\n",
       "      <td>01/21/2022</td>\n",
       "      <td>53.25</td>\n",
       "      <td>2130.00</td>\n",
       "      <td>01/21/2022</td>\n",
       "      <td>52.50</td>\n",
       "      <td>2099.970000</td>\n",
       "      <td>-30.03</td>\n",
       "    </tr>\n",
       "  </tbody>\n",
       "</table>\n",
       "<p>417 rows × 9 columns</p>\n",
       "</div>"
      ],
      "text/plain": [
       "       Symbol  Quantity        Date Cost/Share $  Total Cost $      Date.1  \\\n",
       "0        AAPL      35.0          --           --       4684.72          --   \n",
       "1        Sell      20.0  06/16/2021       130.09       2601.75  07/16/2021   \n",
       "2        Sell      15.0  07/02/2021       138.86       2082.98  07/16/2021   \n",
       "3        ABNB      25.0          --           --       4362.50          --   \n",
       "4        Sell      10.0  11/01/2021       174.50       1745.00  11/05/2021   \n",
       "..        ...       ...         ...          ...           ...         ...   \n",
       "412      Sell      50.0  08/24/2021        49.85       2492.50  08/30/2021   \n",
       "413      Sell      50.0  10/14/2021        40.00       2000.00  10/27/2021   \n",
       "414         Z      75.0          --           --       4319.25          --   \n",
       "415      Sell      35.0  12/23/2021        62.55       2189.25  01/05/2022   \n",
       "416      Sell      40.0  01/21/2022        53.25       2130.00  01/21/2022   \n",
       "\n",
       "    Price/Share $   Proceeds $  Gain $  \n",
       "0              --  5119.857505  435.13  \n",
       "1          146.28  2925.632860  323.88  \n",
       "2          146.28  2194.224645  111.25  \n",
       "3              --  4827.270000  464.77  \n",
       "4          195.00  1949.990000  204.99  \n",
       "..            ...          ...     ...  \n",
       "412         46.75  2337.479800 -155.02  \n",
       "413         41.65  2082.470000   82.47  \n",
       "414            --  4155.150015 -164.10  \n",
       "415         58.72  2055.180015 -134.07  \n",
       "416         52.50  2099.970000  -30.03  \n",
       "\n",
       "[417 rows x 9 columns]"
      ]
     },
     "execution_count": 25,
     "metadata": {},
     "output_type": "execute_result"
    }
   ],
   "source": [
    "\n",
    "tax_lot_df = pd.read_csv(\n",
    "    FILEPATH,\n",
    "    usecols=[0, 1, 2, 3, 4, 5, 6, 7, 8],\n",
    "    skiprows=13,\n",
    "    delimiter=\",\",\n",
    "    sep=\",|\\s\",\n",
    "    skipfooter=2,\n",
    "    engine=\"python\",\n",
    ")\n",
    "\n",
    "tax_lot_df\n"
   ]
  },
  {
   "cell_type": "code",
   "execution_count": 24,
   "metadata": {},
   "outputs": [
    {
     "data": {
      "text/html": [
       "<div>\n",
       "<style scoped>\n",
       "    .dataframe tbody tr th:only-of-type {\n",
       "        vertical-align: middle;\n",
       "    }\n",
       "\n",
       "    .dataframe tbody tr th {\n",
       "        vertical-align: top;\n",
       "    }\n",
       "\n",
       "    .dataframe thead th {\n",
       "        text-align: right;\n",
       "    }\n",
       "</style>\n",
       "<table border=\"1\" class=\"dataframe\">\n",
       "  <thead>\n",
       "    <tr style=\"text-align: right;\">\n",
       "      <th></th>\n",
       "      <th>symbol</th>\n",
       "      <th>quantity</th>\n",
       "      <th>opening_date</th>\n",
       "      <th>cost/share</th>\n",
       "      <th>total_cost</th>\n",
       "      <th>closing_date</th>\n",
       "      <th>price/share</th>\n",
       "      <th>proceeds</th>\n",
       "      <th>gain</th>\n",
       "    </tr>\n",
       "  </thead>\n",
       "  <tbody>\n",
       "    <tr>\n",
       "      <th>0</th>\n",
       "      <td>AAPL</td>\n",
       "      <td>35.0</td>\n",
       "      <td>--</td>\n",
       "      <td>--</td>\n",
       "      <td>4684.72</td>\n",
       "      <td>--</td>\n",
       "      <td>--</td>\n",
       "      <td>5119.857505</td>\n",
       "      <td>435.13</td>\n",
       "    </tr>\n",
       "    <tr>\n",
       "      <th>1</th>\n",
       "      <td>Sell</td>\n",
       "      <td>20.0</td>\n",
       "      <td>06/16/2021</td>\n",
       "      <td>130.09</td>\n",
       "      <td>2601.75</td>\n",
       "      <td>07/16/2021</td>\n",
       "      <td>146.28</td>\n",
       "      <td>2925.632860</td>\n",
       "      <td>323.88</td>\n",
       "    </tr>\n",
       "    <tr>\n",
       "      <th>2</th>\n",
       "      <td>Sell</td>\n",
       "      <td>15.0</td>\n",
       "      <td>07/02/2021</td>\n",
       "      <td>138.86</td>\n",
       "      <td>2082.98</td>\n",
       "      <td>07/16/2021</td>\n",
       "      <td>146.28</td>\n",
       "      <td>2194.224645</td>\n",
       "      <td>111.25</td>\n",
       "    </tr>\n",
       "    <tr>\n",
       "      <th>3</th>\n",
       "      <td>ABNB</td>\n",
       "      <td>25.0</td>\n",
       "      <td>--</td>\n",
       "      <td>--</td>\n",
       "      <td>4362.50</td>\n",
       "      <td>--</td>\n",
       "      <td>--</td>\n",
       "      <td>4827.270000</td>\n",
       "      <td>464.77</td>\n",
       "    </tr>\n",
       "    <tr>\n",
       "      <th>4</th>\n",
       "      <td>Sell</td>\n",
       "      <td>10.0</td>\n",
       "      <td>11/01/2021</td>\n",
       "      <td>174.50</td>\n",
       "      <td>1745.00</td>\n",
       "      <td>11/05/2021</td>\n",
       "      <td>195.00</td>\n",
       "      <td>1949.990000</td>\n",
       "      <td>204.99</td>\n",
       "    </tr>\n",
       "    <tr>\n",
       "      <th>...</th>\n",
       "      <td>...</td>\n",
       "      <td>...</td>\n",
       "      <td>...</td>\n",
       "      <td>...</td>\n",
       "      <td>...</td>\n",
       "      <td>...</td>\n",
       "      <td>...</td>\n",
       "      <td>...</td>\n",
       "      <td>...</td>\n",
       "    </tr>\n",
       "    <tr>\n",
       "      <th>412</th>\n",
       "      <td>Sell</td>\n",
       "      <td>50.0</td>\n",
       "      <td>08/24/2021</td>\n",
       "      <td>49.85</td>\n",
       "      <td>2492.50</td>\n",
       "      <td>08/30/2021</td>\n",
       "      <td>46.75</td>\n",
       "      <td>2337.479800</td>\n",
       "      <td>-155.02</td>\n",
       "    </tr>\n",
       "    <tr>\n",
       "      <th>413</th>\n",
       "      <td>Sell</td>\n",
       "      <td>50.0</td>\n",
       "      <td>10/14/2021</td>\n",
       "      <td>40.00</td>\n",
       "      <td>2000.00</td>\n",
       "      <td>10/27/2021</td>\n",
       "      <td>41.65</td>\n",
       "      <td>2082.470000</td>\n",
       "      <td>82.47</td>\n",
       "    </tr>\n",
       "    <tr>\n",
       "      <th>414</th>\n",
       "      <td>Z</td>\n",
       "      <td>75.0</td>\n",
       "      <td>--</td>\n",
       "      <td>--</td>\n",
       "      <td>4319.25</td>\n",
       "      <td>--</td>\n",
       "      <td>--</td>\n",
       "      <td>4155.150015</td>\n",
       "      <td>-164.10</td>\n",
       "    </tr>\n",
       "    <tr>\n",
       "      <th>415</th>\n",
       "      <td>Sell</td>\n",
       "      <td>35.0</td>\n",
       "      <td>12/23/2021</td>\n",
       "      <td>62.55</td>\n",
       "      <td>2189.25</td>\n",
       "      <td>01/05/2022</td>\n",
       "      <td>58.72</td>\n",
       "      <td>2055.180015</td>\n",
       "      <td>-134.07</td>\n",
       "    </tr>\n",
       "    <tr>\n",
       "      <th>416</th>\n",
       "      <td>Sell</td>\n",
       "      <td>40.0</td>\n",
       "      <td>01/21/2022</td>\n",
       "      <td>53.25</td>\n",
       "      <td>2130.00</td>\n",
       "      <td>01/21/2022</td>\n",
       "      <td>52.50</td>\n",
       "      <td>2099.970000</td>\n",
       "      <td>-30.03</td>\n",
       "    </tr>\n",
       "  </tbody>\n",
       "</table>\n",
       "<p>417 rows × 9 columns</p>\n",
       "</div>"
      ],
      "text/plain": [
       "       symbol  quantity opening_date cost/share  total_cost closing_date  \\\n",
       "0        AAPL      35.0           --         --     4684.72           --   \n",
       "1        Sell      20.0   06/16/2021     130.09     2601.75   07/16/2021   \n",
       "2        Sell      15.0   07/02/2021     138.86     2082.98   07/16/2021   \n",
       "3        ABNB      25.0           --         --     4362.50           --   \n",
       "4        Sell      10.0   11/01/2021     174.50     1745.00   11/05/2021   \n",
       "..        ...       ...          ...        ...         ...          ...   \n",
       "412      Sell      50.0   08/24/2021      49.85     2492.50   08/30/2021   \n",
       "413      Sell      50.0   10/14/2021      40.00     2000.00   10/27/2021   \n",
       "414         Z      75.0           --         --     4319.25           --   \n",
       "415      Sell      35.0   12/23/2021      62.55     2189.25   01/05/2022   \n",
       "416      Sell      40.0   01/21/2022      53.25     2130.00   01/21/2022   \n",
       "\n",
       "    price/share     proceeds    gain  \n",
       "0            --  5119.857505  435.13  \n",
       "1        146.28  2925.632860  323.88  \n",
       "2        146.28  2194.224645  111.25  \n",
       "3            --  4827.270000  464.77  \n",
       "4        195.00  1949.990000  204.99  \n",
       "..          ...          ...     ...  \n",
       "412       46.75  2337.479800 -155.02  \n",
       "413       41.65  2082.470000   82.47  \n",
       "414          --  4155.150015 -164.10  \n",
       "415       58.72  2055.180015 -134.07  \n",
       "416       52.50  2099.970000  -30.03  \n",
       "\n",
       "[417 rows x 9 columns]"
      ]
     },
     "execution_count": 24,
     "metadata": {},
     "output_type": "execute_result"
    }
   ],
   "source": [
    "\n",
    "tax_lot_df.rename(\n",
    "    columns={\n",
    "        tax_lot_df.columns[0]: \"symbol\",\n",
    "        tax_lot_df.columns[1]: \"quantity\",\n",
    "        tax_lot_df.columns[2]: \"opening_date\",\n",
    "        tax_lot_df.columns[3]: \"cost/share\",\n",
    "        tax_lot_df.columns[4]: \"total_cost\",\n",
    "        tax_lot_df.columns[5]: \"closing_date\",\n",
    "        tax_lot_df.columns[6]: \"price/share\",\n",
    "        tax_lot_df.columns[7]: \"proceeds\",\n",
    "        tax_lot_df.columns[8]: \"gain\",\n",
    "    },\n",
    "    inplace=True,\n",
    ")\n",
    "\n",
    "tax_lot_df"
   ]
  },
  {
   "cell_type": "markdown",
   "metadata": {},
   "source": [
    "# A Few Intersting Visualizations   "
   ]
  },
  {
   "cell_type": "code",
   "execution_count": 92,
   "metadata": {},
   "outputs": [
    {
     "data": {
      "text/html": [
       "<div>\n",
       "<style scoped>\n",
       "    .dataframe tbody tr th:only-of-type {\n",
       "        vertical-align: middle;\n",
       "    }\n",
       "\n",
       "    .dataframe tbody tr th {\n",
       "        vertical-align: top;\n",
       "    }\n",
       "\n",
       "    .dataframe thead th {\n",
       "        text-align: right;\n",
       "    }\n",
       "</style>\n",
       "<table border=\"1\" class=\"dataframe\">\n",
       "  <thead>\n",
       "    <tr style=\"text-align: right;\">\n",
       "      <th></th>\n",
       "      <th>symbol</th>\n",
       "      <th>quantity</th>\n",
       "      <th>opening_date</th>\n",
       "      <th>cost/share</th>\n",
       "      <th>total_cost</th>\n",
       "      <th>closing_date</th>\n",
       "      <th>price/share</th>\n",
       "      <th>proceeds</th>\n",
       "      <th>gain</th>\n",
       "      <th>pct_gain/loss</th>\n",
       "      <th>category</th>\n",
       "      <th>days_held</th>\n",
       "    </tr>\n",
       "  </thead>\n",
       "  <tbody>\n",
       "    <tr>\n",
       "      <th>1</th>\n",
       "      <td>AAPL</td>\n",
       "      <td>20.0</td>\n",
       "      <td>2021-06-17</td>\n",
       "      <td>130.09</td>\n",
       "      <td>2601.75</td>\n",
       "      <td>2021-07-16</td>\n",
       "      <td>146.28</td>\n",
       "      <td>2925.632860</td>\n",
       "      <td>323.88</td>\n",
       "      <td>12.45</td>\n",
       "      <td>gain</td>\n",
       "      <td>29</td>\n",
       "    </tr>\n",
       "    <tr>\n",
       "      <th>2</th>\n",
       "      <td>AAPL</td>\n",
       "      <td>15.0</td>\n",
       "      <td>2021-07-03</td>\n",
       "      <td>138.86</td>\n",
       "      <td>2082.98</td>\n",
       "      <td>2021-07-16</td>\n",
       "      <td>146.28</td>\n",
       "      <td>2194.224645</td>\n",
       "      <td>111.25</td>\n",
       "      <td>5.34</td>\n",
       "      <td>gain</td>\n",
       "      <td>13</td>\n",
       "    </tr>\n",
       "    <tr>\n",
       "      <th>4</th>\n",
       "      <td>ACB</td>\n",
       "      <td>80.0</td>\n",
       "      <td>2020-10-20</td>\n",
       "      <td>4.36</td>\n",
       "      <td>349.20</td>\n",
       "      <td>2021-03-11</td>\n",
       "      <td>10.35</td>\n",
       "      <td>828.068000</td>\n",
       "      <td>478.87</td>\n",
       "      <td>137.13</td>\n",
       "      <td>gain</td>\n",
       "      <td>142</td>\n",
       "    </tr>\n",
       "    <tr>\n",
       "      <th>5</th>\n",
       "      <td>ACB</td>\n",
       "      <td>95.0</td>\n",
       "      <td>2021-03-22</td>\n",
       "      <td>9.85</td>\n",
       "      <td>935.49</td>\n",
       "      <td>2021-04-30</td>\n",
       "      <td>8.89</td>\n",
       "      <td>845.009230</td>\n",
       "      <td>-90.48</td>\n",
       "      <td>-9.67</td>\n",
       "      <td>loss</td>\n",
       "      <td>39</td>\n",
       "    </tr>\n",
       "    <tr>\n",
       "      <th>6</th>\n",
       "      <td>ACB</td>\n",
       "      <td>100.0</td>\n",
       "      <td>2021-03-04</td>\n",
       "      <td>9.83</td>\n",
       "      <td>982.78</td>\n",
       "      <td>2021-04-30</td>\n",
       "      <td>8.89</td>\n",
       "      <td>889.483400</td>\n",
       "      <td>-93.30</td>\n",
       "      <td>-9.49</td>\n",
       "      <td>loss</td>\n",
       "      <td>57</td>\n",
       "    </tr>\n",
       "  </tbody>\n",
       "</table>\n",
       "</div>"
      ],
      "text/plain": [
       "  symbol  quantity opening_date cost/share  total_cost closing_date  \\\n",
       "1   AAPL      20.0   2021-06-17     130.09     2601.75   2021-07-16   \n",
       "2   AAPL      15.0   2021-07-03     138.86     2082.98   2021-07-16   \n",
       "4    ACB      80.0   2020-10-20       4.36      349.20   2021-03-11   \n",
       "5    ACB      95.0   2021-03-22       9.85      935.49   2021-04-30   \n",
       "6    ACB     100.0   2021-03-04       9.83      982.78   2021-04-30   \n",
       "\n",
       "  price/share     proceeds    gain  pct_gain/loss category  days_held  \n",
       "1      146.28  2925.632860  323.88          12.45     gain         29  \n",
       "2      146.28  2194.224645  111.25           5.34     gain         13  \n",
       "4       10.35   828.068000  478.87         137.13     gain        142  \n",
       "5        8.89   845.009230  -90.48          -9.67     loss         39  \n",
       "6        8.89   889.483400  -93.30          -9.49     loss         57  "
      ]
     },
     "execution_count": 92,
     "metadata": {},
     "output_type": "execute_result"
    }
   ],
   "source": [
    "tax_lot_df.head()"
   ]
  },
  {
   "cell_type": "code",
   "execution_count": 93,
   "metadata": {},
   "outputs": [
    {
     "data": {
      "application/vnd.plotly.v1+json": {
       "config": {
        "plotlyServerURL": "https://plot.ly"
       },
       "data": [
        {
         "contours": {
          "coloring": "none"
         },
         "hoverlabel": {
          "namelength": 0
         },
         "hovertemplate": "proceeds=%{x}<br>pct_gain/loss=%{y}<br>count=%{z}",
         "legendgroup": "",
         "line": {
          "color": "#636efa"
         },
         "name": "",
         "showlegend": false,
         "type": "histogram2dcontour",
         "x": [
          2925.63286,
          2194.224645,
          845.00923,
          889.4834,
          293.529522,
          889.4834,
          44.47417,
          329.108858,
          400.26753,
          44.47417,
          866.523606,
          871.96784,
          882.867438,
          739.9781,
          1494.527612,
          12.8516183,
          301.77934167918,
          1.969631376,
          1966.4837,
          3.22700147475,
          4.3223330409,
          0.52269169971,
          2.81639931573,
          2.0551268,
          1103.54868,
          827.26002,
          168.620001,
          2726.69,
          1173.97,
          1173.97,
          1173.97,
          1013.97998,
          1158.64,
          828.91588,
          1719.96431,
          941.97735,
          973.376595,
          1347.471825,
          962.479875,
          577.487925,
          731.484705,
          525.239055,
          1862.211195,
          1639.96597,
          1429.95996,
          1261.77084,
          876.22975,
          1051.4769,
          81.94,
          900.88856,
          933.649797,
          85.370825,
          99.030592,
          529.30144,
          68.29696,
          242.454208,
          1334.986665,
          1334.986665,
          1334.986665,
          904.990375,
          1809.98075,
          1450.854398,
          250.14731,
          800.471392,
          2501.4731,
          3996.780036,
          613.19,
          1202.99,
          772.9136,
          306.0301,
          10.0049976,
          2.1337056,
          9.0715014,
          10.206192,
          6967.76,
          6688.36,
          11.2995324,
          2.0588958,
          4879.77,
          9.562644,
          14.8676346,
          3.9649194,
          11.2442382,
          12.1744818,
          9.8416928,
          971.490375,
          971.490375,
          971.490375,
          318.43,
          820.4805,
          1008.18249,
          936.169455,
          1151.230004,
          374.466144,
          3946.297056,
          460.670301,
          4096.269996,
          1016.870775,
          1301.594592,
          2667.4681,
          399.889995,
          266.79,
          17.399525,
          1103.39001,
          4006.374,
          313.72,
          21.59,
          234.289995,
          1349.99,
          864.2575,
          6.31577849388,
          23.78485,
          81.3994,
          40.6997,
          57.386577,
          349.610423,
          81.3994,
          237.8485,
          237.8485,
          23.78485,
          47.5697,
          285.4182,
          95.1394,
          237.8485,
          406.997,
          859.49379,
          954.9931,
          954.9931,
          574.429998,
          4144.41525,
          1259.240375,
          2518.48075,
          2457.428505,
          4358.9581,
          11.8563735,
          1013.68788,
          1351.58384,
          1012.49001,
          904.912,
          1357.368,
          923.988648,
          567.651,
          0.7477,
          352.33848,
          2531.957,
          2531.957,
          3277.18,
          971.865,
          1037.475,
          465.1032,
          1037.47025,
          1709.74,
          450.985,
          450.985,
          1803.94,
          1108.44,
          1781.791872,
          43.948,
          395.53029,
          679.1881,
          940.49,
          1339.23,
          936.214208,
          980.95974,
          1585.59,
          1515.5,
          1543.865,
          140.1112,
          70.0556,
          70.0556,
          980.29,
          1272.243335,
          2544.48667,
          92.299,
          1753.681,
          790.98905,
          790.98905,
          1047.889995,
          1047.889995,
          1047.889995,
          248.566997,
          248.566997,
          1930.811201,
          10.2538807,
          18.0280877,
          16.8838929,
          632.992503,
          3.4730577,
          5.6451186,
          3.087899,
          20.9005028,
          7.94356445634,
          7.39026955278,
          1236.58800122,
          5.56816598568,
          657.78274135587,
          11.8591473,
          0.91586502882,
          6.77780843256,
          4.16568915171,
          934.99192,
          2337.4798
         ],
         "xaxis": "x",
         "xbingroup": "x",
         "y": [
          12.45,
          5.34,
          -9.67,
          -9.49,
          -31.46,
          -40.38,
          -14.79,
          5.78,
          33.59,
          -9.71,
          -12.8,
          -11.39,
          -10.66,
          18.02,
          51.72,
          1.9,
          1.94,
          11.3,
          23.91,
          41.05,
          88.65,
          36.84,
          48.42,
          6.22,
          1.34,
          -9.83,
          -9.78,
          6.51,
          13.86,
          8.7,
          5.01,
          -3.11,
          -4.2,
          -17.36,
          71.12,
          -5.85,
          -4.38,
          -8.88,
          -2.53,
          15.27,
          17.55,
          45.8,
          86.88,
          56.55,
          11.78,
          -14.2,
          -9.55,
          -4.63,
          -8.12,
          -8.16,
          -5.04,
          -68.73,
          -6.82,
          -29.59,
          -4.09,
          -6.95,
          7.58,
          2.53,
          -0.94,
          -6.04,
          -6.22,
          45.05,
          82.36,
          -5.53,
          -5.96,
          0.11,
          -12.4,
          -7.02,
          -22.78,
          17.83,
          5.04,
          2.9,
          -0.98,
          0,
          0.24,
          -3.76,
          7.21,
          8.99,
          25.26,
          28.84,
          23.3,
          16.76,
          15.76,
          13.21,
          0,
          -2.26,
          -4.83,
          -10.58,
          3.64,
          -17.33,
          -2.59,
          -3.64,
          13.04,
          5.98,
          5.2,
          56.94,
          -1,
          -9.81,
          -12.36,
          -5.89,
          -5.95,
          -5.88,
          -0.57,
          -0.06,
          -5.3,
          -40.78,
          -25.06,
          8.43,
          -1.85,
          -3.14,
          1.12,
          -70.98,
          -57.26,
          -56.07,
          -41.17,
          -41.16,
          -49.49,
          -60.36,
          -62.39,
          -68.38,
          -69.2,
          -70.55,
          -70.9,
          -65.15,
          -40.06,
          7.18,
          5,
          -3.44,
          7.45,
          0.47,
          3.53,
          -0.63,
          -7.87,
          3.31,
          -1.17,
          -2.9,
          -5.38,
          -5.49,
          0.09,
          0.59,
          -7.08,
          -7.48,
          -8.54,
          -7.97,
          32.14,
          16.27,
          -7.94,
          -2.23,
          0.6,
          -15.74,
          -5.68,
          -19.31,
          -9.78,
          1.34,
          -9.17,
          -6.04,
          -10.12,
          -48.94,
          10.28,
          22.38,
          -4.28,
          -3.09,
          -7.1,
          -2.77,
          0.86,
          -3.29,
          -9.1,
          -39.4,
          -37.45,
          -26.55,
          -4.03,
          -4.22,
          -4.38,
          -11.68,
          -11.68,
          -4.53,
          -5.67,
          -1.74,
          -5.95,
          -4.43,
          76.17,
          16.05,
          18.37,
          6,
          2.79,
          19.04,
          22.94,
          20.91,
          4.06,
          0,
          20.88,
          4.47,
          21.95,
          20.91,
          1.64,
          24.68,
          24.71,
          0,
          22.6,
          5.57,
          -5.4,
          -6.22
         ],
         "yaxis": "y",
         "ybingroup": "y"
        }
       ],
       "layout": {
        "legend": {
         "tracegroupgap": 0
        },
        "margin": {
         "t": 60
        },
        "template": {
         "data": {
          "bar": [
           {
            "error_x": {
             "color": "#2a3f5f"
            },
            "error_y": {
             "color": "#2a3f5f"
            },
            "marker": {
             "line": {
              "color": "#E5ECF6",
              "width": 0.5
             }
            },
            "type": "bar"
           }
          ],
          "barpolar": [
           {
            "marker": {
             "line": {
              "color": "#E5ECF6",
              "width": 0.5
             }
            },
            "type": "barpolar"
           }
          ],
          "carpet": [
           {
            "aaxis": {
             "endlinecolor": "#2a3f5f",
             "gridcolor": "white",
             "linecolor": "white",
             "minorgridcolor": "white",
             "startlinecolor": "#2a3f5f"
            },
            "baxis": {
             "endlinecolor": "#2a3f5f",
             "gridcolor": "white",
             "linecolor": "white",
             "minorgridcolor": "white",
             "startlinecolor": "#2a3f5f"
            },
            "type": "carpet"
           }
          ],
          "choropleth": [
           {
            "colorbar": {
             "outlinewidth": 0,
             "ticks": ""
            },
            "type": "choropleth"
           }
          ],
          "contour": [
           {
            "colorbar": {
             "outlinewidth": 0,
             "ticks": ""
            },
            "colorscale": [
             [
              0,
              "#0d0887"
             ],
             [
              0.1111111111111111,
              "#46039f"
             ],
             [
              0.2222222222222222,
              "#7201a8"
             ],
             [
              0.3333333333333333,
              "#9c179e"
             ],
             [
              0.4444444444444444,
              "#bd3786"
             ],
             [
              0.5555555555555556,
              "#d8576b"
             ],
             [
              0.6666666666666666,
              "#ed7953"
             ],
             [
              0.7777777777777778,
              "#fb9f3a"
             ],
             [
              0.8888888888888888,
              "#fdca26"
             ],
             [
              1,
              "#f0f921"
             ]
            ],
            "type": "contour"
           }
          ],
          "contourcarpet": [
           {
            "colorbar": {
             "outlinewidth": 0,
             "ticks": ""
            },
            "type": "contourcarpet"
           }
          ],
          "heatmap": [
           {
            "colorbar": {
             "outlinewidth": 0,
             "ticks": ""
            },
            "colorscale": [
             [
              0,
              "#0d0887"
             ],
             [
              0.1111111111111111,
              "#46039f"
             ],
             [
              0.2222222222222222,
              "#7201a8"
             ],
             [
              0.3333333333333333,
              "#9c179e"
             ],
             [
              0.4444444444444444,
              "#bd3786"
             ],
             [
              0.5555555555555556,
              "#d8576b"
             ],
             [
              0.6666666666666666,
              "#ed7953"
             ],
             [
              0.7777777777777778,
              "#fb9f3a"
             ],
             [
              0.8888888888888888,
              "#fdca26"
             ],
             [
              1,
              "#f0f921"
             ]
            ],
            "type": "heatmap"
           }
          ],
          "heatmapgl": [
           {
            "colorbar": {
             "outlinewidth": 0,
             "ticks": ""
            },
            "colorscale": [
             [
              0,
              "#0d0887"
             ],
             [
              0.1111111111111111,
              "#46039f"
             ],
             [
              0.2222222222222222,
              "#7201a8"
             ],
             [
              0.3333333333333333,
              "#9c179e"
             ],
             [
              0.4444444444444444,
              "#bd3786"
             ],
             [
              0.5555555555555556,
              "#d8576b"
             ],
             [
              0.6666666666666666,
              "#ed7953"
             ],
             [
              0.7777777777777778,
              "#fb9f3a"
             ],
             [
              0.8888888888888888,
              "#fdca26"
             ],
             [
              1,
              "#f0f921"
             ]
            ],
            "type": "heatmapgl"
           }
          ],
          "histogram": [
           {
            "marker": {
             "colorbar": {
              "outlinewidth": 0,
              "ticks": ""
             }
            },
            "type": "histogram"
           }
          ],
          "histogram2d": [
           {
            "colorbar": {
             "outlinewidth": 0,
             "ticks": ""
            },
            "colorscale": [
             [
              0,
              "#0d0887"
             ],
             [
              0.1111111111111111,
              "#46039f"
             ],
             [
              0.2222222222222222,
              "#7201a8"
             ],
             [
              0.3333333333333333,
              "#9c179e"
             ],
             [
              0.4444444444444444,
              "#bd3786"
             ],
             [
              0.5555555555555556,
              "#d8576b"
             ],
             [
              0.6666666666666666,
              "#ed7953"
             ],
             [
              0.7777777777777778,
              "#fb9f3a"
             ],
             [
              0.8888888888888888,
              "#fdca26"
             ],
             [
              1,
              "#f0f921"
             ]
            ],
            "type": "histogram2d"
           }
          ],
          "histogram2dcontour": [
           {
            "colorbar": {
             "outlinewidth": 0,
             "ticks": ""
            },
            "colorscale": [
             [
              0,
              "#0d0887"
             ],
             [
              0.1111111111111111,
              "#46039f"
             ],
             [
              0.2222222222222222,
              "#7201a8"
             ],
             [
              0.3333333333333333,
              "#9c179e"
             ],
             [
              0.4444444444444444,
              "#bd3786"
             ],
             [
              0.5555555555555556,
              "#d8576b"
             ],
             [
              0.6666666666666666,
              "#ed7953"
             ],
             [
              0.7777777777777778,
              "#fb9f3a"
             ],
             [
              0.8888888888888888,
              "#fdca26"
             ],
             [
              1,
              "#f0f921"
             ]
            ],
            "type": "histogram2dcontour"
           }
          ],
          "mesh3d": [
           {
            "colorbar": {
             "outlinewidth": 0,
             "ticks": ""
            },
            "type": "mesh3d"
           }
          ],
          "parcoords": [
           {
            "line": {
             "colorbar": {
              "outlinewidth": 0,
              "ticks": ""
             }
            },
            "type": "parcoords"
           }
          ],
          "pie": [
           {
            "automargin": true,
            "type": "pie"
           }
          ],
          "scatter": [
           {
            "marker": {
             "colorbar": {
              "outlinewidth": 0,
              "ticks": ""
             }
            },
            "type": "scatter"
           }
          ],
          "scatter3d": [
           {
            "line": {
             "colorbar": {
              "outlinewidth": 0,
              "ticks": ""
             }
            },
            "marker": {
             "colorbar": {
              "outlinewidth": 0,
              "ticks": ""
             }
            },
            "type": "scatter3d"
           }
          ],
          "scattercarpet": [
           {
            "marker": {
             "colorbar": {
              "outlinewidth": 0,
              "ticks": ""
             }
            },
            "type": "scattercarpet"
           }
          ],
          "scattergeo": [
           {
            "marker": {
             "colorbar": {
              "outlinewidth": 0,
              "ticks": ""
             }
            },
            "type": "scattergeo"
           }
          ],
          "scattergl": [
           {
            "marker": {
             "colorbar": {
              "outlinewidth": 0,
              "ticks": ""
             }
            },
            "type": "scattergl"
           }
          ],
          "scattermapbox": [
           {
            "marker": {
             "colorbar": {
              "outlinewidth": 0,
              "ticks": ""
             }
            },
            "type": "scattermapbox"
           }
          ],
          "scatterpolar": [
           {
            "marker": {
             "colorbar": {
              "outlinewidth": 0,
              "ticks": ""
             }
            },
            "type": "scatterpolar"
           }
          ],
          "scatterpolargl": [
           {
            "marker": {
             "colorbar": {
              "outlinewidth": 0,
              "ticks": ""
             }
            },
            "type": "scatterpolargl"
           }
          ],
          "scatterternary": [
           {
            "marker": {
             "colorbar": {
              "outlinewidth": 0,
              "ticks": ""
             }
            },
            "type": "scatterternary"
           }
          ],
          "surface": [
           {
            "colorbar": {
             "outlinewidth": 0,
             "ticks": ""
            },
            "colorscale": [
             [
              0,
              "#0d0887"
             ],
             [
              0.1111111111111111,
              "#46039f"
             ],
             [
              0.2222222222222222,
              "#7201a8"
             ],
             [
              0.3333333333333333,
              "#9c179e"
             ],
             [
              0.4444444444444444,
              "#bd3786"
             ],
             [
              0.5555555555555556,
              "#d8576b"
             ],
             [
              0.6666666666666666,
              "#ed7953"
             ],
             [
              0.7777777777777778,
              "#fb9f3a"
             ],
             [
              0.8888888888888888,
              "#fdca26"
             ],
             [
              1,
              "#f0f921"
             ]
            ],
            "type": "surface"
           }
          ],
          "table": [
           {
            "cells": {
             "fill": {
              "color": "#EBF0F8"
             },
             "line": {
              "color": "white"
             }
            },
            "header": {
             "fill": {
              "color": "#C8D4E3"
             },
             "line": {
              "color": "white"
             }
            },
            "type": "table"
           }
          ]
         },
         "layout": {
          "annotationdefaults": {
           "arrowcolor": "#2a3f5f",
           "arrowhead": 0,
           "arrowwidth": 1
          },
          "coloraxis": {
           "colorbar": {
            "outlinewidth": 0,
            "ticks": ""
           }
          },
          "colorscale": {
           "diverging": [
            [
             0,
             "#8e0152"
            ],
            [
             0.1,
             "#c51b7d"
            ],
            [
             0.2,
             "#de77ae"
            ],
            [
             0.3,
             "#f1b6da"
            ],
            [
             0.4,
             "#fde0ef"
            ],
            [
             0.5,
             "#f7f7f7"
            ],
            [
             0.6,
             "#e6f5d0"
            ],
            [
             0.7,
             "#b8e186"
            ],
            [
             0.8,
             "#7fbc41"
            ],
            [
             0.9,
             "#4d9221"
            ],
            [
             1,
             "#276419"
            ]
           ],
           "sequential": [
            [
             0,
             "#0d0887"
            ],
            [
             0.1111111111111111,
             "#46039f"
            ],
            [
             0.2222222222222222,
             "#7201a8"
            ],
            [
             0.3333333333333333,
             "#9c179e"
            ],
            [
             0.4444444444444444,
             "#bd3786"
            ],
            [
             0.5555555555555556,
             "#d8576b"
            ],
            [
             0.6666666666666666,
             "#ed7953"
            ],
            [
             0.7777777777777778,
             "#fb9f3a"
            ],
            [
             0.8888888888888888,
             "#fdca26"
            ],
            [
             1,
             "#f0f921"
            ]
           ],
           "sequentialminus": [
            [
             0,
             "#0d0887"
            ],
            [
             0.1111111111111111,
             "#46039f"
            ],
            [
             0.2222222222222222,
             "#7201a8"
            ],
            [
             0.3333333333333333,
             "#9c179e"
            ],
            [
             0.4444444444444444,
             "#bd3786"
            ],
            [
             0.5555555555555556,
             "#d8576b"
            ],
            [
             0.6666666666666666,
             "#ed7953"
            ],
            [
             0.7777777777777778,
             "#fb9f3a"
            ],
            [
             0.8888888888888888,
             "#fdca26"
            ],
            [
             1,
             "#f0f921"
            ]
           ]
          },
          "colorway": [
           "#636efa",
           "#EF553B",
           "#00cc96",
           "#ab63fa",
           "#FFA15A",
           "#19d3f3",
           "#FF6692",
           "#B6E880",
           "#FF97FF",
           "#FECB52"
          ],
          "font": {
           "color": "#2a3f5f"
          },
          "geo": {
           "bgcolor": "white",
           "lakecolor": "white",
           "landcolor": "#E5ECF6",
           "showlakes": true,
           "showland": true,
           "subunitcolor": "white"
          },
          "hoverlabel": {
           "align": "left"
          },
          "hovermode": "closest",
          "mapbox": {
           "style": "light"
          },
          "paper_bgcolor": "white",
          "plot_bgcolor": "#E5ECF6",
          "polar": {
           "angularaxis": {
            "gridcolor": "white",
            "linecolor": "white",
            "ticks": ""
           },
           "bgcolor": "#E5ECF6",
           "radialaxis": {
            "gridcolor": "white",
            "linecolor": "white",
            "ticks": ""
           }
          },
          "scene": {
           "xaxis": {
            "backgroundcolor": "#E5ECF6",
            "gridcolor": "white",
            "gridwidth": 2,
            "linecolor": "white",
            "showbackground": true,
            "ticks": "",
            "zerolinecolor": "white"
           },
           "yaxis": {
            "backgroundcolor": "#E5ECF6",
            "gridcolor": "white",
            "gridwidth": 2,
            "linecolor": "white",
            "showbackground": true,
            "ticks": "",
            "zerolinecolor": "white"
           },
           "zaxis": {
            "backgroundcolor": "#E5ECF6",
            "gridcolor": "white",
            "gridwidth": 2,
            "linecolor": "white",
            "showbackground": true,
            "ticks": "",
            "zerolinecolor": "white"
           }
          },
          "shapedefaults": {
           "line": {
            "color": "#2a3f5f"
           }
          },
          "ternary": {
           "aaxis": {
            "gridcolor": "white",
            "linecolor": "white",
            "ticks": ""
           },
           "baxis": {
            "gridcolor": "white",
            "linecolor": "white",
            "ticks": ""
           },
           "bgcolor": "#E5ECF6",
           "caxis": {
            "gridcolor": "white",
            "linecolor": "white",
            "ticks": ""
           }
          },
          "title": {
           "x": 0.05
          },
          "xaxis": {
           "automargin": true,
           "gridcolor": "white",
           "linecolor": "white",
           "ticks": "",
           "title": {
            "standoff": 15
           },
           "zerolinecolor": "white",
           "zerolinewidth": 2
          },
          "yaxis": {
           "automargin": true,
           "gridcolor": "white",
           "linecolor": "white",
           "ticks": "",
           "title": {
            "standoff": 15
           },
           "zerolinecolor": "white",
           "zerolinewidth": 2
          }
         }
        },
        "xaxis": {
         "anchor": "y",
         "domain": [
          0,
          1
         ],
         "title": {
          "text": "proceeds"
         }
        },
        "yaxis": {
         "anchor": "x",
         "domain": [
          0,
          1
         ],
         "title": {
          "text": "pct_gain/loss"
         }
        }
       }
      }
     },
     "metadata": {},
     "output_type": "display_data"
    }
   ],
   "source": [
    "import plotly.express as px\n",
    "\n",
    "less_than_100_pct = tax_lot_df[tax_lot_df['pct_gain/loss'] < 100]\n",
    "\n",
    "fig = px.density_contour(less_than_100_pct, x=\"proceeds\", y=\"pct_gain/loss\")\n",
    "fig.show()"
   ]
  },
  {
   "cell_type": "code",
   "execution_count": 94,
   "metadata": {},
   "outputs": [
    {
     "data": {
      "text/html": [
       "<div>\n",
       "<style scoped>\n",
       "    .dataframe tbody tr th:only-of-type {\n",
       "        vertical-align: middle;\n",
       "    }\n",
       "\n",
       "    .dataframe tbody tr th {\n",
       "        vertical-align: top;\n",
       "    }\n",
       "\n",
       "    .dataframe thead th {\n",
       "        text-align: right;\n",
       "    }\n",
       "</style>\n",
       "<table border=\"1\" class=\"dataframe\">\n",
       "  <thead>\n",
       "    <tr style=\"text-align: right;\">\n",
       "      <th></th>\n",
       "      <th>symbol</th>\n",
       "      <th>quantity</th>\n",
       "      <th>opening_date</th>\n",
       "      <th>cost/share</th>\n",
       "      <th>total_cost</th>\n",
       "      <th>closing_date</th>\n",
       "      <th>price/share</th>\n",
       "      <th>proceeds</th>\n",
       "      <th>gain</th>\n",
       "      <th>pct_gain/loss</th>\n",
       "      <th>category</th>\n",
       "      <th>days_held</th>\n",
       "    </tr>\n",
       "  </thead>\n",
       "  <tbody>\n",
       "  </tbody>\n",
       "</table>\n",
       "</div>"
      ],
      "text/plain": [
       "Empty DataFrame\n",
       "Columns: [symbol, quantity, opening_date, cost/share, total_cost, closing_date, price/share, proceeds, gain, pct_gain/loss, category, days_held]\n",
       "Index: []"
      ]
     },
     "execution_count": 94,
     "metadata": {},
     "output_type": "execute_result"
    }
   ],
   "source": [
    "less_than_100_pct[less_than_100_pct.category.isnull()]"
   ]
  },
  {
   "cell_type": "code",
   "execution_count": 99,
   "metadata": {},
   "outputs": [
    {
     "data": {
      "application/vnd.plotly.v1+json": {
       "config": {
        "plotlyServerURL": "https://plot.ly"
       },
       "data": [
        {
         "alignmentgroup": "True",
         "bingroup": "x",
         "hoverlabel": {
          "namelength": 0
         },
         "hovertemplate": "category=gain<br>pct_gain/loss=%{x}<br>count=%{y}",
         "legendgroup": "gain",
         "marker": {
          "color": "#636efa"
         },
         "name": "gain",
         "nbinsx": 200,
         "offsetgroup": "gain",
         "orientation": "v",
         "showlegend": true,
         "type": "histogram",
         "x": [
          12.45,
          5.34,
          5.78,
          33.59,
          18.02,
          51.72,
          1.9,
          1.94,
          11.3,
          23.91,
          41.05,
          88.65,
          36.84,
          48.42,
          6.22,
          1.34,
          6.51,
          13.86,
          8.7,
          5.01,
          71.12,
          15.27,
          17.55,
          45.8,
          86.88,
          56.55,
          11.78,
          7.58,
          2.53,
          45.05,
          82.36,
          0.11,
          17.83,
          5.04,
          2.9,
          0.24,
          7.21,
          8.99,
          25.26,
          28.84,
          23.3,
          16.76,
          15.76,
          13.21,
          3.64,
          13.04,
          5.98,
          5.2,
          56.94,
          8.43,
          1.12,
          7.18,
          5,
          7.45,
          0.47,
          3.53,
          3.31,
          0.09,
          0.59,
          32.14,
          16.27,
          0.6,
          1.34,
          10.28,
          22.38,
          0.86,
          76.17,
          16.05,
          18.37,
          6,
          2.79,
          19.04,
          22.94,
          20.91,
          4.06,
          20.88,
          4.47,
          21.95,
          20.91,
          1.64,
          24.68,
          24.71,
          22.6,
          5.57
         ],
         "xaxis": "x",
         "yaxis": "y"
        },
        {
         "alignmentgroup": "True",
         "customdata": [
          [
           "AAPL",
           20,
           1623888000000000000,
           "130.09",
           2601.75,
           1626393600000000000,
           "146.28",
           2925.63286,
           323.88,
           12.45,
           1,
           29
          ],
          [
           "AAPL",
           15,
           1625270400000000000,
           "138.86",
           2082.98,
           1626393600000000000,
           "146.28",
           2194.224645,
           111.25,
           5.34,
           1,
           13
          ],
          [
           "ACB",
           37,
           1609200000000000000,
           "8.41",
           311.13,
           1619740800000000000,
           "8.89",
           329.108858,
           17.98,
           5.78,
           1,
           122
          ],
          [
           "ACB",
           45,
           1605052800000000000,
           "6.66",
           299.61,
           1619740800000000000,
           "8.89",
           400.26753,
           100.65,
           33.59,
           1,
           170
          ],
          [
           "AEHR",
           100,
           1629849600000000000,
           "6.27",
           627,
           1630022400000000000,
           "7.40",
           739.9781,
           112.98,
           18.02,
           1,
           2
          ],
          [
           "AIEQ",
           38,
           1564963200000000000,
           "25.92",
           985.07,
           1618272000000000000,
           "39.33",
           1494.527612,
           509.46,
           51.72,
           1,
           617
          ],
          [
           "AIEQ",
           0.32693,
           1611792000000000000,
           "38.58",
           12.61,
           1618272000000000000,
           "39.31",
           12.8516183,
           0.24,
           1.9,
           1,
           75
          ],
          [
           "AIEQ",
           7.67307,
           1611705600000000000,
           "38.58",
           296.03,
           1618272000000000000,
           "39.33",
           301.77934167918,
           5.75,
           1.94,
           1,
           76
          ],
          [
           "AIEQ",
           0.05008,
           1608163200000000000,
           "35.34",
           1.77,
           1618272000000000000,
           "39.33",
           1.969631376,
           0.2,
           11.3,
           1,
           117
          ],
          [
           "AIEQ",
           50,
           1598572800000000000,
           "31.74",
           1587,
           1618272000000000000,
           "39.33",
           1966.4837,
           379.48,
           23.91,
           1,
           228
          ],
          [
           "AIEQ",
           0.08205,
           1592438400000000000,
           "27.91",
           2.29,
           1618272000000000000,
           "39.33",
           3.22700147475,
           0.94,
           41.05,
           1,
           299
          ],
          [
           "AIEQ",
           0.1099,
           1584662400000000000,
           "20.84",
           2.29,
           1618272000000000000,
           "39.33",
           4.3223330409,
           2.03,
           88.65,
           1,
           389
          ],
          [
           "AIEQ",
           0.01329,
           1578009600000000000,
           "28.59",
           0.38,
           1618272000000000000,
           "39.33",
           0.52269169971,
           0.14,
           36.84,
           1,
           466
          ],
          [
           "AIEQ",
           0.07161,
           1569369600000000000,
           "26.53",
           1.9,
           1618272000000000000,
           "39.33",
           2.81639931573,
           0.92,
           48.42,
           1,
           566
          ],
          [
           "AIEQ",
           0.05228,
           1616716800000000000,
           "36.92",
           1.93,
           1618272000000000000,
           "39.31",
           2.0551268,
           0.12,
           6.22,
           1,
           18
          ],
          [
           "ALF",
           180,
           1623715200000000000,
           "6.05",
           1089,
           1623715200000000000,
           "6.13",
           1103.54868,
           14.55,
           1.34,
           1,
           0
          ],
          [
           "ALF",
           400,
           1623888000000000000,
           "6.40",
           2560,
           1623801600000000000,
           "6.82",
           2726.69,
           166.69,
           6.51,
           1,
           -1
          ],
          [
           "ALF",
           200,
           1623801600000000000,
           "5.16",
           1031.02,
           1623801600000000000,
           "5.87",
           1173.97,
           142.95,
           13.86,
           1,
           0
          ],
          [
           "ALF",
           200,
           1623801600000000000,
           "5.40",
           1080,
           1623801600000000000,
           "5.87",
           1173.97,
           93.97,
           8.7,
           1,
           0
          ],
          [
           "ALF",
           200,
           1623801600000000000,
           "5.59",
           1118,
           1623801600000000000,
           "5.87",
           1173.97,
           55.97,
           5.01,
           1,
           0
          ],
          [
           "ATOS",
           215,
           1623628800000000000,
           "4.68",
           1005.12,
           1624492800000000000,
           "8.00",
           1719.96431,
           714.84,
           71.12,
           1,
           10
          ],
          [
           "ATOS",
           75,
           1624406400000000000,
           "6.68",
           501,
           1624838400000000000,
           "7.70",
           577.487925,
           76.49,
           15.27,
           1,
           5
          ],
          [
           "ATOS",
           95,
           1624320000000000000,
           "6.55",
           622.25,
           1624838400000000000,
           "7.70",
           731.484705,
           109.23,
           17.55,
           1,
           6
          ],
          [
           "ATOS",
           55,
           1624320000000000000,
           "6.55",
           360.25,
           1624579200000000000,
           "9.55",
           525.239055,
           164.99,
           45.8,
           1,
           3
          ],
          [
           "ATOS",
           195,
           1623974400000000000,
           "5.11",
           996.45,
           1624579200000000000,
           "9.55",
           1862.211195,
           865.76,
           86.88,
           1,
           7
          ],
          [
           "ATOS",
           205,
           1623974400000000000,
           "5.11",
           1047.55,
           1624492800000000000,
           "8.00",
           1639.96597,
           592.42,
           56.55,
           1,
           6
          ],
          [
           "ATOS",
           220,
           1626220800000000000,
           "5.82",
           1279.3,
           1626134400000000000,
           "6.50",
           1429.95996,
           150.66,
           11.78,
           1,
           -1
          ],
          [
           "BOOT",
           15,
           1627084800000000000,
           "82.73",
           1240.95,
           1628640000000000000,
           "89.00",
           1334.986665,
           94.04,
           7.58,
           1,
           18
          ],
          [
           "BOOT",
           15,
           1627603200000000000,
           "86.80",
           1302,
           1628640000000000000,
           "89.00",
           1334.986665,
           32.99,
           2.53,
           1,
           12
          ],
          [
           "CCL",
           58,
           1594771200000000000,
           "17.24",
           1000.21,
           1620777600000000000,
           "25.01",
           1450.854398,
           450.64,
           45.05,
           1,
           301
          ],
          [
           "CCL",
           10,
           1596499200000000000,
           "13.72",
           137.17,
           1620777600000000000,
           "25.01",
           250.14731,
           112.97,
           82.36,
           1,
           281
          ],
          [
           "CCRN",
           228,
           1623369600000000000,
           "17.51",
           3992.28,
           1624320000000000000,
           "17.53",
           3996.780036,
           4.5,
           0.11,
           1,
           11
          ],
          [
           "DIA",
           1,
           1592006400000000000,
           "259.72",
           259.72,
           1612310400000000000,
           "306.03",
           306.0301,
           46.32,
           17.83,
           1,
           235
          ],
          [
           "DIA",
           0.03076,
           1610409600000000000,
           "309.54",
           9.52,
           1616112000000000000,
           "325.26",
           10.0049976,
           0.48,
           5.04,
           1,
           66
          ],
          [
           "DIA",
           0.00656,
           1613520000000000000,
           "315.65",
           2.07,
           1616112000000000000,
           "325.26",
           2.1337056,
           0.06,
           2.9,
           1,
           30
          ],
          [
           "DIA",
           20,
           1622851200000000000,
           "347.55",
           6950.98,
           1623024000000000000,
           "348.39",
           6967.76,
           16.78,
           0.24,
           1,
           2
          ],
          [
           "DIA",
           0.03474,
           1607990400000000000,
           "303.40",
           10.54,
           1616112000000000000,
           "325.26",
           11.2995324,
           0.76,
           7.21,
           1,
           94
          ],
          [
           "DIA",
           0.00633,
           1605571200000000000,
           "298.48",
           1.89,
           1616112000000000000,
           "325.26",
           2.0588958,
           0.17,
           8.99,
           1,
           122
          ],
          [
           "DIA",
           15,
           1592006400000000000,
           "259.72",
           3895.72,
           1616112000000000000,
           "325.32",
           4879.77,
           984.04,
           25.26,
           1,
           279
          ],
          [
           "DIA",
           0.0294,
           1592265600000000000,
           "252.35",
           7.42,
           1616112000000000000,
           "325.26",
           9.562644,
           2.14,
           28.84,
           1,
           276
          ],
          [
           "DIA",
           0.04571,
           1594684800000000000,
           "263.81",
           12.06,
           1616112000000000000,
           "325.26",
           14.8676346,
           2.81,
           23.3,
           1,
           248
          ],
          [
           "DIA",
           0.01219,
           1597708800000000000,
           "278.85",
           3.4,
           1616112000000000000,
           "325.26",
           3.9649194,
           0.57,
           16.76,
           1,
           213
          ],
          [
           "DIA",
           0.03457,
           1600128000000000000,
           "280.87",
           9.71,
           1616112000000000000,
           "325.26",
           11.2442382,
           1.53,
           15.76,
           1,
           185
          ],
          [
           "DIA",
           0.03743,
           1602633600000000000,
           "287.24",
           10.75,
           1616112000000000000,
           "325.26",
           12.1744818,
           1.42,
           13.21,
           1,
           156
          ],
          [
           "ECOR",
           200,
           1594771200000000000,
           "1.54",
           307.26,
           1605052800000000000,
           "1.59",
           318.43,
           11.17,
           3.64,
           1,
           119
          ],
          [
           "FIGS",
           34,
           1622160000000000000,
           "29.95",
           1018.42,
           1622505600000000000,
           "33.86",
           1151.230004,
           132.81,
           13.04,
           1,
           4
          ],
          [
           "FLMN",
           78,
           1619568000000000000,
           "4.53",
           353.34,
           1621555200000000000,
           "4.80",
           374.466144,
           21.13,
           5.98,
           1,
           23
          ],
          [
           "FLMN",
           822,
           1619568000000000000,
           "4.56",
           3751.28,
           1621555200000000000,
           "4.80",
           3946.297056,
           195.02,
           5.2,
           1,
           23
          ],
          [
           "GME",
           3,
           1612396800000000000,
           "97.85",
           293.54,
           1614211200000000000,
           "153.56",
           460.670301,
           167.13,
           56.94,
           1,
           21
          ],
          [
           "INO",
           15,
           1597363200000000000,
           "14.40",
           216.08,
           1613088000000000000,
           "15.62",
           234.289995,
           18.21,
           8.43,
           1,
           182
          ],
          [
           "JEF",
           0.16806,
           1630022400000000000,
           "37.19",
           6.25,
           1630281600000000000,
           "37.58",
           6.31577849388,
           0.07,
           1.12,
           1,
           3
          ],
          [
           "JYNT",
           9,
           1628121600000000000,
           "89.10",
           801.9,
           1628812800000000000,
           "95.50",
           859.49379,
           57.59,
           7.18,
           1,
           8
          ],
          [
           "JYNT",
           10,
           1628208000000000000,
           "90.95",
           909.5,
           1628812800000000000,
           "95.50",
           954.9931,
           45.49,
           5,
           1,
           7
          ],
          [
           "JYNT",
           6,
           1628121600000000000,
           "89.10",
           534.6,
           1628812800000000000,
           "95.74",
           574.429998,
           39.83,
           7.45,
           1,
           8
          ],
          [
           "LCUT",
           250,
           1621209600000000000,
           "16.50",
           4125,
           1621382400000000000,
           "16.58",
           4144.41525,
           19.42,
           0.47,
           1,
           2
          ],
          [
           "LKQ",
           25,
           1624838400000000000,
           "48.65",
           1216.25,
           1626393600000000000,
           "50.37",
           1259.240375,
           42.99,
           3.53,
           1,
           18
          ],
          [
           "MVBF",
           100,
           1621814400000000000,
           "42.20",
           4219.5,
           1622505600000000000,
           "43.59",
           4358.9581,
           139.46,
           3.31,
           1,
           8
          ],
          [
           "MYRG",
           10,
           1625270400000000000,
           "90.41",
           904.1,
           1626393600000000000,
           "90.49",
           904.912,
           0.81,
           0.09,
           1,
           13
          ],
          [
           "MYRG",
           15,
           1625788800000000000,
           "89.96",
           1349.4,
           1626393600000000000,
           "90.49",
           1357.368,
           7.97,
           0.59,
           1,
           7
          ],
          [
           "NVAX",
           10,
           1618358400000000000,
           "191.61",
           1916.1,
           1619481600000000000,
           "253.20",
           2531.957,
           615.86,
           32.14,
           1,
           13
          ],
          [
           "NVAX",
           10,
           1618876800000000000,
           "217.77",
           2177.73,
           1619481600000000000,
           "253.20",
           2531.957,
           354.23,
           16.27,
           1,
           7
          ],
          [
           "OCGN",
           125,
           1624579200000000000,
           "8.25",
           1031.25,
           1625011200000000000,
           "8.30",
           1037.475,
           6.22,
           0.6,
           1,
           5
          ],
          [
           "OCX",
           100,
           1618876800000000000,
           "4.45",
           445,
           1620086400000000000,
           "4.51",
           450.985,
           5.98,
           1.34,
           1,
           14
          ],
          [
           "PPBT",
           90,
           1609804800000000000,
           "3.98",
           358.65,
           1612483200000000000,
           "4.39",
           395.53029,
           36.88,
           10.28,
           1,
           31
          ],
          [
           "PRCP",
           100,
           1594684800000000000,
           "5.55",
           555,
           1601337600000000000,
           "6.79",
           679.1881,
           124.19,
           22.38,
           1,
           77
          ],
          [
           "SHOP",
           1,
           1625702400000000000,
           "1572.00",
           1572,
           1625616000000000000,
           "1585.59",
           1585.59,
           13.59,
           0.86,
           1,
           -1
          ],
          [
           "USO",
           7,
           1587600000000000000,
           "20.16",
           141.1,
           1611705600000000000,
           "35.51",
           248.566997,
           107.47,
           76.17,
           1,
           279
          ],
          [
           "USO",
           7,
           1599091200000000000,
           "30.60",
           214.2,
           1611705600000000000,
           "35.51",
           248.566997,
           34.37,
           16.05,
           1,
           146
          ],
          [
           "VDC",
           11,
           1586476800000000000,
           "148.29",
           1631.19,
           1616544000000000000,
           "175.53",
           1930.811201,
           299.62,
           18.37,
           1,
           348
          ],
          [
           "VDC",
           0.05843,
           1600300800000000000,
           "165.51",
           9.67,
           1616630400000000000,
           "175.49",
           10.2538807,
           0.58,
           6,
           1,
           189
          ],
          [
           "VDC",
           0.10273,
           1608681600000000000,
           "170.73",
           17.54,
           1616630400000000000,
           "175.49",
           18.0280877,
           0.49,
           2.79,
           1,
           92
          ],
          [
           "VDC",
           0.09621,
           1593129600000000000,
           "147.38",
           14.18,
           1616630400000000000,
           "175.49",
           16.8838929,
           2.7,
           19.04,
           1,
           272
          ],
          [
           "VEA",
           13,
           1593734400000000000,
           "39.60",
           514.86,
           1616544000000000000,
           "48.69",
           632.992503,
           118.13,
           22.94,
           1,
           264
          ],
          [
           "VEA",
           0.07133,
           1600992000000000000,
           "40.24",
           2.87,
           1616544000000000000,
           "48.69",
           3.4730577,
           0.6,
           20.91,
           1,
           180
          ],
          [
           "VEA",
           0.11594,
           1608854400000000000,
           "46.75",
           5.42,
           1616544000000000000,
           "48.69",
           5.6451186,
           0.22,
           4.06,
           1,
           89
          ],
          [
           "VGK",
           0.33244,
           1594080000000000000,
           "52.00",
           17.29,
           1616976000000000000,
           "62.87",
           20.9005028,
           3.61,
           20.88,
           1,
           265
          ],
          [
           "VGK",
           0.12634,
           1608854400000000000,
           "60.16",
           7.6,
           1616976000000000000,
           "62.87",
           7.94356445634,
           0.34,
           4.47,
           1,
           94
          ],
          [
           "VGK",
           0.11754,
           1600992000000000000,
           "51.56",
           6.06,
           1616976000000000000,
           "62.87",
           7.39026955278,
           1.33,
           21.95,
           1,
           185
          ],
          [
           "VGK",
           19.66756,
           1594080000000000000,
           "52.00",
           1022.71,
           1616976000000000000,
           "62.87",
           1236.58800122,
           213.87,
           20.91,
           1,
           265
          ],
          [
           "VGK",
           0.08856,
           1616716800000000000,
           "61.88",
           5.48,
           1616976000000000000,
           "62.87",
           5.56816598568,
           0.09,
           1.64,
           1,
           3
          ],
          [
           "VWO",
           12.76977,
           1593734400000000000,
           "41.32",
           527.59,
           1616976000000000000,
           "51.51",
           657.78274135587,
           130.19,
           24.68,
           1,
           269
          ],
          [
           "VWO",
           0.23023,
           1593734400000000000,
           "41.32",
           9.51,
           1617062400000000000,
           "51.51",
           11.8591473,
           2.35,
           24.71,
           1,
           270
          ],
          [
           "VWO",
           0.13158,
           1600992000000000000,
           "42.03",
           5.53,
           1617062400000000000,
           "51.51",
           6.77780843256,
           1.25,
           22.6,
           1,
           186
          ],
          [
           "VWO",
           0.08087,
           1608854400000000000,
           "48.84",
           3.95,
           1617062400000000000,
           "51.51",
           4.16568915171,
           0.22,
           5.57,
           1,
           95
          ]
         ],
         "hoverlabel": {
          "namelength": 0
         },
         "hovertemplate": "category=%{customdata[10]}<br>pct_gain/loss=%{customdata[9]}<br>symbol=%{customdata[0]}<br>quantity=%{customdata[1]}<br>opening_date=%{customdata[2]}<br>cost/share=%{customdata[3]}<br>total_cost=%{customdata[4]}<br>closing_date=%{customdata[5]}<br>price/share=%{customdata[6]}<br>proceeds=%{customdata[7]}<br>gain=%{customdata[8]}<br>days_held=%{customdata[11]}",
         "legendgroup": "gain",
         "marker": {
          "color": "#636efa"
         },
         "name": "gain",
         "notched": true,
         "offsetgroup": "gain",
         "showlegend": false,
         "type": "box",
         "x": [
          12.45,
          5.34,
          5.78,
          33.59,
          18.02,
          51.72,
          1.9,
          1.94,
          11.3,
          23.91,
          41.05,
          88.65,
          36.84,
          48.42,
          6.22,
          1.34,
          6.51,
          13.86,
          8.7,
          5.01,
          71.12,
          15.27,
          17.55,
          45.8,
          86.88,
          56.55,
          11.78,
          7.58,
          2.53,
          45.05,
          82.36,
          0.11,
          17.83,
          5.04,
          2.9,
          0.24,
          7.21,
          8.99,
          25.26,
          28.84,
          23.3,
          16.76,
          15.76,
          13.21,
          3.64,
          13.04,
          5.98,
          5.2,
          56.94,
          8.43,
          1.12,
          7.18,
          5,
          7.45,
          0.47,
          3.53,
          3.31,
          0.09,
          0.59,
          32.14,
          16.27,
          0.6,
          1.34,
          10.28,
          22.38,
          0.86,
          76.17,
          16.05,
          18.37,
          6,
          2.79,
          19.04,
          22.94,
          20.91,
          4.06,
          20.88,
          4.47,
          21.95,
          20.91,
          1.64,
          24.68,
          24.71,
          22.6,
          5.57
         ],
         "xaxis": "x2",
         "yaxis": "y2"
        },
        {
         "alignmentgroup": "True",
         "bingroup": "x",
         "hoverlabel": {
          "namelength": 0
         },
         "hovertemplate": "category=loss<br>pct_gain/loss=%{x}<br>count=%{y}",
         "legendgroup": "loss",
         "marker": {
          "color": "#EF553B"
         },
         "name": "loss",
         "nbinsx": 200,
         "offsetgroup": "loss",
         "orientation": "v",
         "showlegend": true,
         "type": "histogram",
         "x": [
          -9.67,
          -9.49,
          -31.46,
          -40.38,
          -14.79,
          -9.71,
          -12.8,
          -11.39,
          -10.66,
          -9.83,
          -9.78,
          -3.11,
          -4.2,
          -17.36,
          -5.85,
          -4.38,
          -8.88,
          -2.53,
          -14.2,
          -9.55,
          -4.63,
          -8.12,
          -8.16,
          -5.04,
          -68.73,
          -6.82,
          -29.59,
          -4.09,
          -6.95,
          -0.94,
          -6.04,
          -6.22,
          -5.53,
          -5.96,
          -12.4,
          -7.02,
          -22.78,
          -0.98,
          0,
          -3.76,
          0,
          -2.26,
          -4.83,
          -10.58,
          -17.33,
          -2.59,
          -3.64,
          -1,
          -9.81,
          -12.36,
          -5.89,
          -5.95,
          -5.88,
          -0.57,
          -0.06,
          -5.3,
          -40.78,
          -25.06,
          -1.85,
          -3.14,
          -70.98,
          -57.26,
          -56.07,
          -41.17,
          -41.16,
          -49.49,
          -60.36,
          -62.39,
          -68.38,
          -69.2,
          -70.55,
          -70.9,
          -65.15,
          -40.06,
          -3.44,
          -0.63,
          -7.87,
          -1.17,
          -2.9,
          -5.38,
          -5.49,
          -7.08,
          -7.48,
          -8.54,
          -7.97,
          -7.94,
          -2.23,
          -15.74,
          -5.68,
          -19.31,
          -9.78,
          -9.17,
          -6.04,
          -10.12,
          -48.94,
          -4.28,
          -3.09,
          -7.1,
          -2.77,
          -3.29,
          -9.1,
          -39.4,
          -37.45,
          -26.55,
          -4.03,
          -4.22,
          -4.38,
          -11.68,
          -11.68,
          -4.53,
          -5.67,
          -1.74,
          -5.95,
          -4.43,
          0,
          0,
          -5.4,
          -6.22
         ],
         "xaxis": "x",
         "yaxis": "y"
        },
        {
         "alignmentgroup": "True",
         "customdata": [
          [
           "ACB",
           95,
           1616371200000000000,
           "9.85",
           935.49,
           1619740800000000000,
           "8.89",
           845.00923,
           -90.48,
           -9.67,
           0,
           39
          ],
          [
           "ACB",
           100,
           1614816000000000000,
           "9.83",
           982.78,
           1619740800000000000,
           "8.89",
           889.4834,
           -93.3,
           -9.49,
           0,
           57
          ],
          [
           "ACB",
           33,
           1613088000000000000,
           "12.98",
           428.26,
           1619740800000000000,
           "8.89",
           293.529522,
           -134.73,
           -31.46,
           0,
           77
          ],
          [
           "ACB",
           100,
           1613001600000000000,
           "14.92",
           1492,
           1619740800000000000,
           "8.89",
           889.4834,
           -602.52,
           -40.38,
           0,
           78
          ],
          [
           "ACB",
           5,
           1611273600000000000,
           "10.44",
           52.19,
           1619740800000000000,
           "8.89",
           44.47417,
           -7.72,
           -14.79,
           0,
           98
          ],
          [
           "ACB",
           5,
           1616371200000000000,
           "9.85",
           49.25,
           1619740800000000000,
           "8.89",
           44.47417,
           -4.78,
           -9.71,
           0,
           39
          ],
          [
           "AEHR",
           159,
           1628553600000000000,
           "6.25",
           993.75,
           1628812800000000000,
           "5.45",
           866.523606,
           -127.23,
           -12.8,
           0,
           3
          ],
          [
           "AEHR",
           160,
           1628467200000000000,
           "6.15",
           984,
           1628812800000000000,
           "5.45",
           871.96784,
           -112.03,
           -11.39,
           0,
           4
          ],
          [
           "AEHR",
           162,
           1628467200000000000,
           "6.10",
           988.2,
           1628812800000000000,
           "5.45",
           882.867438,
           -105.33,
           -10.66,
           0,
           4
          ],
          [
           "ALF",
           54,
           1625011200000000000,
           "16.99",
           917.46,
           1624924800000000000,
           "15.32",
           827.26002,
           -90.2,
           -9.83,
           0,
           -1
          ],
          [
           "ALF",
           11,
           1625011200000000000,
           "16.99",
           186.89,
           1624924800000000000,
           "15.33",
           168.620001,
           -18.27,
           -9.78,
           0,
           -1
          ],
          [
           "ALF",
           65,
           1625011200000000000,
           "16.10",
           1046.5,
           1624924800000000000,
           "15.60",
           1013.97998,
           -32.52,
           -3.11,
           0,
           -1
          ],
          [
           "ANVS",
           10,
           1626134400000000000,
           "120.94",
           1209.4,
           1626048000000000000,
           "115.86",
           1158.64,
           -50.76,
           -4.2,
           0,
           -1
          ],
          [
           "ATHE",
           458,
           1625097600000000000,
           "2.19",
           1003.02,
           1625184000000000000,
           "1.81",
           828.91588,
           -174.1,
           -17.36,
           0,
           1
          ],
          [
           "ATOS",
           150,
           1625011200000000000,
           "6.67",
           1000.5,
           1625011200000000000,
           "6.28",
           941.97735,
           -58.52,
           -5.85,
           0,
           0
          ],
          [
           "ATOS",
           155,
           1625011200000000000,
           "6.57",
           1017.95,
           1625011200000000000,
           "6.28",
           973.376595,
           -44.57,
           -4.38,
           0,
           0
          ],
          [
           "ATOS",
           175,
           1624579200000000000,
           "8.45",
           1478.75,
           1624838400000000000,
           "7.70",
           1347.471825,
           -131.28,
           -8.88,
           0,
           3
          ],
          [
           "ATOS",
           125,
           1624492800000000000,
           "7.90",
           987.5,
           1624838400000000000,
           "7.70",
           962.479875,
           -25.02,
           -2.53,
           0,
           4
          ],
          [
           "AUUD",
           180,
           1624924800000000000,
           "8.17",
           1470.6,
           1624924800000000000,
           "7.01",
           1261.77084,
           -208.83,
           -14.2,
           0,
           0
          ],
          [
           "AUUD",
           125,
           1624924800000000000,
           "7.75",
           968.75,
           1624924800000000000,
           "7.01",
           876.22975,
           -92.52,
           -9.55,
           0,
           0
          ],
          [
           "AUUD",
           150,
           1625011200000000000,
           "7.35",
           1102.5,
           1624924800000000000,
           "7.01",
           1051.4769,
           -51.02,
           -4.63,
           0,
           -1
          ],
          [
           "BCRX",
           5,
           1628294400000000000,
           "17.84",
           89.18,
           1628553600000000000,
           "16.39",
           81.94,
           -7.24,
           -8.12,
           0,
           3
          ],
          [
           "BCRX",
           55,
           1628208000000000000,
           "17.84",
           980.92,
           1628553600000000000,
           "16.38",
           900.88856,
           -80.04,
           -8.16,
           0,
           4
          ],
          [
           "BCRX",
           57,
           1628640000000000000,
           "17.25",
           983.25,
           1628553600000000000,
           "16.38",
           933.649797,
           -49.6,
           -5.04,
           0,
           -1
          ],
          [
           "BKYI",
           25,
           1594944000000000000,
           "10.92",
           273,
           1619481600000000000,
           "3.41",
           85.370825,
           -187.63,
           -68.73,
           0,
           284
          ],
          [
           "BKYI",
           29,
           1615420800000000000,
           "3.66",
           106.28,
           1619481600000000000,
           "3.41",
           99.030592,
           -7.25,
           -6.82,
           0,
           47
          ],
          [
           "BKYI",
           155,
           1613606400000000000,
           "4.85",
           751.75,
           1619481600000000000,
           "3.41",
           529.30144,
           -222.45,
           -29.59,
           0,
           68
          ],
          [
           "BKYI",
           20,
           1609372800000000000,
           "3.56",
           71.2,
           1619481600000000000,
           "3.41",
           68.29696,
           -2.91,
           -4.09,
           0,
           117
          ],
          [
           "BKYI",
           71,
           1615420800000000000,
           "3.67",
           260.57,
           1619481600000000000,
           "3.41",
           242.454208,
           -18.12,
           -6.95,
           0,
           47
          ],
          [
           "BOOT",
           15,
           1628208000000000000,
           "89.84",
           1347.6,
           1628640000000000000,
           "89.00",
           1334.986665,
           -12.61,
           -0.94,
           0,
           5
          ],
          [
           "CAMT",
           25,
           1628035200000000000,
           "38.53",
           963.2,
           1629072000000000000,
           "36.20",
           904.990375,
           -58.21,
           -6.04,
           0,
           12
          ],
          [
           "CAMT",
           50,
           1628467200000000000,
           "38.60",
           1930,
           1629072000000000000,
           "36.20",
           1809.98075,
           -120.02,
           -6.22,
           0,
           7
          ],
          [
           "CCL",
           32,
           1616544000000000000,
           "26.48",
           847.33,
           1620777600000000000,
           "25.01",
           800.471392,
           -46.86,
           -5.53,
           0,
           49
          ],
          [
           "CCL",
           100,
           1620086400000000000,
           "26.60",
           2660,
           1620777600000000000,
           "25.01",
           2501.4731,
           -158.53,
           -5.96,
           0,
           8
          ],
          [
           "COIN",
           2,
           1618444800000000000,
           "350.00",
           700,
           1619049600000000000,
           "306.60",
           613.19,
           -86.81,
           -12.4,
           0,
           7
          ],
          [
           "COIN",
           5,
           1625011200000000000,
           "258.75",
           1293.75,
           1625184000000000000,
           "240.60",
           1202.99,
           -90.76,
           -7.02,
           0,
           2
          ],
          [
           "CWSFF",
           800,
           1626220800000000000,
           "1.25",
           1000.95,
           1627430400000000000,
           ".97",
           772.9136,
           -228.04,
           -22.78,
           0,
           14
          ],
          [
           "DIA",
           0.02789,
           1615852800000000000,
           "328.42",
           9.16,
           1616112000000000000,
           "325.26",
           9.0715014,
           -0.09,
           -0.98,
           0,
           3
          ],
          [
           "DIA",
           0.0304,
           1618272000000000000,
           "337.20",
           10.25,
           1618358400000000000,
           "335.73",
           10.206192,
           0,
           0,
           0,
           1
          ],
          [
           "DIA",
           20,
           1623110400000000000,
           "347.49",
           6949.8,
           1623974400000000000,
           "334.42",
           6688.36,
           -261.44,
           -3.76,
           0,
           10
          ],
          [
           "DIA",
           0.02819,
           1626134400000000000,
           "349.45",
           9.85,
           1626220800000000000,
           "349.12",
           9.8416928,
           0,
           0,
           0,
           1
          ],
          [
           "DXC",
           25,
           1627257600000000000,
           "39.76",
           994,
           1628121600000000000,
           "38.86",
           971.490375,
           -22.51,
           -2.26,
           0,
           10
          ],
          [
           "DXC",
           25,
           1627516800000000000,
           "40.83",
           1020.75,
           1628121600000000000,
           "38.86",
           971.490375,
           -49.26,
           -4.83,
           0,
           7
          ],
          [
           "DXC",
           25,
           1627862400000000000,
           "43.46",
           1086.48,
           1628121600000000000,
           "38.86",
           971.490375,
           -114.99,
           -10.58,
           0,
           3
          ],
          [
           "ECOR",
           500,
           1616976000000000000,
           "1.98",
           992.5,
           1618531200000000000,
           "1.64",
           820.4805,
           -172.02,
           -17.33,
           0,
           18
          ],
          [
           "F",
           70,
           1624233600000000000,
           "14.79",
           1034.98,
           1625616000000000000,
           "14.40",
           1008.18249,
           -26.8,
           -2.59,
           0,
           16
          ],
          [
           "F",
           65,
           1624320000000000000,
           "14.95",
           971.56,
           1625616000000000000,
           "14.40",
           936.169455,
           -35.39,
           -3.64,
           0,
           15
          ],
          [
           "HD",
           13,
           1621296000000000000,
           "318.27",
           4137.51,
           1621555200000000000,
           "315.10",
           4096.269996,
           -41.24,
           -1,
           0,
           3
          ],
          [
           "HHR",
           25,
           1625702400000000000,
           "45.10",
           1127.5,
           1626307200000000000,
           "40.67",
           1016.870775,
           -110.63,
           -9.81,
           0,
           7
          ],
          [
           "HHR",
           32,
           1626048000000000000,
           "46.41",
           1485.12,
           1626307200000000000,
           "40.67",
           1301.594592,
           -183.53,
           -12.36,
           0,
           3
          ],
          [
           "HOMB",
           100,
           1620086400000000000,
           "28.34",
           2834.5,
           1621382400000000000,
           "26.67",
           2667.4681,
           -167.03,
           -5.89,
           0,
           15
          ],
          [
           "HOMB",
           15,
           1620172800000000000,
           "28.34",
           425.18,
           1621382400000000000,
           "26.66",
           399.889995,
           -25.29,
           -5.95,
           0,
           14
          ],
          [
           "HOMB",
           10,
           1620172800000000000,
           "28.34",
           283.45,
           1621382400000000000,
           "26.68",
           266.79,
           -16.66,
           -5.88,
           0,
           14
          ],
          [
           "HOMB",
           0.63271,
           1622678400000000000,
           "27.66",
           17.5,
           1622764800000000000,
           "27.50",
           17.399525,
           -0.1,
           -0.57,
           0,
           1
          ],
          [
           "HOME",
           30,
           1625184000000000000,
           "36.80",
           1104,
           1625788800000000000,
           "36.78",
           1103.39001,
           -0.61,
           -0.06,
           0,
           7
          ],
          [
           "HRI",
           40,
           1621296000000000000,
           "105.76",
           4230.4,
           1621382400000000000,
           "100.16",
           4006.374,
           -224.03,
           -5.3,
           0,
           1
          ],
          [
           "IMV",
           100,
           1594684800000000000,
           "5.30",
           529.77,
           1609200000000000000,
           "3.14",
           313.72,
           -216.05,
           -40.78,
           0,
           168
          ],
          [
           "INO",
           2,
           1597276800000000000,
           "14.40",
           28.81,
           1608076800000000000,
           "10.80",
           21.59,
           -7.22,
           -25.06,
           0,
           125
          ],
          [
           "J",
           10,
           1628812800000000000,
           "137.55",
           1375.5,
           1629158400000000000,
           "135.00",
           1349.99,
           -25.51,
           -1.85,
           0,
           4
          ],
          [
           "JEF",
           25,
           1628726400000000000,
           "35.69",
           892.25,
           1629244800000000000,
           "34.57",
           864.2575,
           -27.99,
           -3.14,
           0,
           6
          ],
          [
           "JUVAF",
           50,
           1611100800000000000,
           "1.64",
           81.95,
           1620691200000000000,
           ".48",
           23.78485,
           -58.17,
           -70.98,
           0,
           111
          ],
          [
           "JUVAF",
           200,
           1615852800000000000,
           ".95",
           190.45,
           1620864000000000000,
           ".41",
           81.3994,
           -109.05,
           -57.26,
           0,
           58
          ],
          [
           "JUVAF",
           100,
           1616025600000000000,
           ".93",
           92.65,
           1620864000000000000,
           ".41",
           40.6997,
           -51.95,
           -56.07,
           0,
           56
          ],
          [
           "JUVAF",
           141,
           1616457600000000000,
           ".69",
           97.56,
           1620864000000000000,
           ".41",
           57.386577,
           -40.17,
           -41.17,
           0,
           51
          ],
          [
           "JUVAF",
           859,
           1616457600000000000,
           ".69",
           594.18,
           1620864000000000000,
           ".41",
           349.610423,
           -244.57,
           -41.16,
           0,
           51
          ],
          [
           "JUVAF",
           200,
           1618272000000000000,
           ".81",
           161.16,
           1620864000000000000,
           ".41",
           81.3994,
           -79.76,
           -49.49,
           0,
           30
          ],
          [
           "JUVAF",
           500,
           1614816000000000000,
           "1.20",
           599.95,
           1620691200000000000,
           ".48",
           237.8485,
           -362.1,
           -60.36,
           0,
           68
          ],
          [
           "JUVAF",
           500,
           1614297600000000000,
           "1.26",
           632.45,
           1620691200000000000,
           ".48",
           237.8485,
           -394.6,
           -62.39,
           0,
           74
          ],
          [
           "JUVAF",
           50,
           1612483200000000000,
           "1.50",
           75.2,
           1620691200000000000,
           ".48",
           23.78485,
           -51.42,
           -68.38,
           0,
           95
          ],
          [
           "JUVAF",
           100,
           1612742400000000000,
           "1.54",
           154.45,
           1620691200000000000,
           ".48",
           47.5697,
           -106.88,
           -69.2,
           0,
           92
          ],
          [
           "JUVAF",
           600,
           1612915200000000000,
           "1.62",
           969.33,
           1620691200000000000,
           ".48",
           285.4182,
           -683.91,
           -70.55,
           0,
           90
          ],
          [
           "JUVAF",
           200,
           1612915200000000000,
           "1.63",
           326.95,
           1620691200000000000,
           ".48",
           95.1394,
           -231.81,
           -70.9,
           0,
           90
          ],
          [
           "JUVAF",
           500,
           1614124800000000000,
           "1.36",
           682.45,
           1620691200000000000,
           ".48",
           237.8485,
           -444.6,
           -65.15,
           0,
           76
          ],
          [
           "JUVAF",
           1000,
           1619740800000000000,
           ".68",
           679,
           1620864000000000000,
           ".41",
           406.997,
           -272,
           -40.06,
           0,
           13
          ],
          [
           "JYNT",
           10,
           1628726400000000000,
           "98.90",
           989,
           1628812800000000000,
           "95.50",
           954.9931,
           -34.01,
           -3.44,
           0,
           1
          ],
          [
           "LKQ",
           50,
           1625616000000000000,
           "50.69",
           2534.48,
           1626393600000000000,
           "50.37",
           2518.48075,
           -16,
           -0.63,
           0,
           9
          ],
          [
           "MRNA",
           15,
           1619481600000000000,
           "177.82",
           2667.38,
           1620172800000000000,
           "163.83",
           2457.428505,
           -209.95,
           -7.87,
           0,
           8
          ],
          [
           "MVBF",
           0.28129,
           1623801600000000000,
           "42.66",
           12,
           1623888000000000000,
           "42.15",
           11.8563735,
           -0.14,
           -1.17,
           0,
           1
          ],
          [
           "MYGN",
           30,
           1629676800000000000,
           "34.80",
           1044,
           1629936000000000000,
           "33.79",
           1013.68788,
           -30.31,
           -2.9,
           0,
           3
          ],
          [
           "MYGN",
           40,
           1629763200000000000,
           "35.71",
           1428.4,
           1629936000000000000,
           "33.79",
           1351.58384,
           -76.82,
           -5.38,
           0,
           2
          ],
          [
           "MYGN",
           30,
           1629849600000000000,
           "35.71",
           1071.3,
           1629936000000000000,
           "33.75",
           1012.49001,
           -58.81,
           -5.49,
           0,
           1
          ],
          [
           "NAKD",
           1198,
           1622851200000000000,
           ".83",
           994.34,
           1622764800000000000,
           ".77",
           923.988648,
           -70.35,
           -7.08,
           0,
           -1
          ],
          [
           "NAKD",
           750,
           1623110400000000000,
           ".82",
           613.58,
           1623110400000000000,
           ".76",
           567.651,
           -45.92,
           -7.48,
           0,
           0
          ],
          [
           "NAKD",
           1,
           1623196800000000000,
           ".82",
           0.82,
           1623110400000000000,
           ".75",
           0.7477,
           -0.07,
           -8.54,
           0,
           -1
          ],
          [
           "NAKD",
           468,
           1623110400000000000,
           ".82",
           382.87,
           1623110400000000000,
           ".75",
           352.33848,
           -30.53,
           -7.97,
           0,
           0
          ],
          [
           "NVAX",
           20,
           1620432000000000000,
           "177.99",
           3559.8,
           1620604800000000000,
           "163.86",
           3277.18,
           -282.62,
           -7.94,
           0,
           2
          ],
          [
           "NVDA",
           5,
           1627948800000000000,
           "198.80",
           994,
           1627948800000000000,
           "194.37",
           971.865,
           -22.14,
           -2.23,
           0,
           0
          ],
          [
           "OCGN",
           48,
           1613001600000000000,
           "11.50",
           552,
           1613001600000000000,
           "9.69",
           465.1032,
           -86.9,
           -15.74,
           0,
           0
          ],
          [
           "OCGN",
           125,
           1624924800000000000,
           "8.80",
           1100,
           1625011200000000000,
           "8.30",
           1037.47025,
           -62.53,
           -5.68,
           0,
           1
          ],
          [
           "OCX",
           400,
           1617235200000000000,
           "5.30",
           2118.8,
           1618876800000000000,
           "4.27",
           1709.74,
           -409.06,
           -19.31,
           0,
           19
          ],
          [
           "OCX",
           100,
           1618358400000000000,
           "5.00",
           499.84,
           1620086400000000000,
           "4.51",
           450.985,
           -48.86,
           -9.78,
           0,
           20
          ],
          [
           "OCX",
           400,
           1619568000000000000,
           "4.96",
           1986,
           1620086400000000000,
           "4.51",
           1803.94,
           -182.06,
           -9.17,
           0,
           6
          ],
          [
           "OMI",
           25,
           1626825600000000000,
           "47.19",
           1179.66,
           1627862400000000000,
           "44.34",
           1108.44,
           -71.22,
           -6.04,
           0,
           12
          ],
          [
           "ORC",
           336,
           1617062400000000000,
           "5.90",
           1982.4,
           1618790400000000000,
           "5.30",
           1781.791872,
           -200.61,
           -10.12,
           0,
           20
          ],
          [
           "PPBT",
           10,
           1594252800000000000,
           "8.61",
           86.07,
           1612483200000000000,
           "4.39",
           43.948,
           -42.12,
           -48.94,
           0,
           211
          ],
          [
           "QRVO",
           5,
           1628121600000000000,
           "196.50",
           982.5,
           1628640000000000000,
           "188.10",
           940.49,
           -42.01,
           -4.28,
           0,
           6
          ],
          [
           "RH",
           2,
           1627084800000000000,
           "691.00",
           1382,
           1627603200000000000,
           "669.62",
           1339.23,
           -42.77,
           -3.09,
           0,
           6
          ],
          [
           "SB",
           272,
           1629331200000000000,
           "3.70",
           1007.76,
           1629417600000000000,
           "3.44",
           936.214208,
           -71.55,
           -7.1,
           0,
           1
          ],
          [
           "SB",
           285,
           1629331200000000000,
           "3.54",
           1008.9,
           1629417600000000000,
           "3.44",
           980.95974,
           -27.94,
           -2.77,
           0,
           1
          ],
          [
           "SHOP",
           1,
           1625702400000000000,
           "1567.00",
           1567,
           1625616000000000000,
           "1515.50",
           1515.5,
           -51.5,
           -3.29,
           0,
           -1
          ],
          [
           "SNAP",
           25,
           1624579200000000000,
           "67.94",
           1698.38,
           1625702400000000000,
           "61.75",
           1543.865,
           -154.51,
           -9.1,
           0,
           13
          ],
          [
           "SNDL",
           200,
           1614816000000000000,
           "1.16",
           231.22,
           1620950400000000000,
           ".70",
           140.1112,
           -91.11,
           -39.4,
           0,
           71
          ],
          [
           "SNDL",
           100,
           1617580800000000000,
           "1.12",
           112,
           1620950400000000000,
           ".70",
           70.0556,
           -41.94,
           -37.45,
           0,
           39
          ],
          [
           "SNDL",
           100,
           1618272000000000000,
           ".95",
           95.39,
           1620950400000000000,
           ".70",
           70.0556,
           -25.33,
           -26.55,
           0,
           31
          ],
          [
           "SSTK",
           10,
           1624924800000000000,
           "102.15",
           1021.5,
           1626307200000000000,
           "98.03",
           980.29,
           -41.21,
           -4.03,
           0,
           16
          ],
          [
           "TGT",
           5,
           1628640000000000000,
           "265.66",
           1328.29,
           1629158400000000000,
           "254.45",
           1272.243335,
           -56.04,
           -4.22,
           0,
           6
          ],
          [
           "TGT",
           10,
           1628726400000000000,
           "266.10",
           2661,
           1629158400000000000,
           "254.45",
           2544.48667,
           -116.51,
           -4.38,
           0,
           5
          ],
          [
           "THCX",
           5,
           1616198400000000000,
           "20.90",
           104.49,
           1620000000000000000,
           "18.46",
           92.299,
           -12.2,
           -11.68,
           0,
           44
          ],
          [
           "THCX",
           95,
           1616198400000000000,
           "20.90",
           1985.5,
           1620000000000000000,
           "18.46",
           1753.681,
           -231.82,
           -11.68,
           0,
           44
          ],
          [
           "TLYS",
           50,
           1629763200000000000,
           "16.57",
           828.5,
           1629936000000000000,
           "15.82",
           790.98905,
           -37.51,
           -4.53,
           0,
           2
          ],
          [
           "TLYS",
           50,
           1629763200000000000,
           "16.77",
           838.5,
           1629936000000000000,
           "15.82",
           790.98905,
           -47.51,
           -5.67,
           0,
           2
          ],
          [
           "TXT",
           15,
           1628035200000000000,
           "71.10",
           1066.5,
           1629331200000000000,
           "69.86",
           1047.889995,
           -18.61,
           -1.74,
           0,
           15
          ],
          [
           "TXT",
           15,
           1628812800000000000,
           "74.28",
           1114.12,
           1629331200000000000,
           "69.86",
           1047.889995,
           -66.24,
           -5.95,
           0,
           6
          ],
          [
           "TXT",
           15,
           1629158400000000000,
           "73.10",
           1096.5,
           1629331200000000000,
           "69.86",
           1047.889995,
           -48.61,
           -4.43,
           0,
           2
          ],
          [
           "VEA",
           0.06289,
           1616716800000000000,
           "48.50",
           3.05,
           1616976000000000000,
           "49.10",
           3.087899,
           0,
           0,
           0,
           3
          ],
          [
           "VWO",
           0.01778,
           1616716800000000000,
           "50.63",
           0.9,
           1617062400000000000,
           "51.51",
           0.91586502882,
           0,
           0,
           0,
           4
          ],
          [
           "YOU",
           20,
           1629676800000000000,
           "49.42",
           988.35,
           1630281600000000000,
           "46.75",
           934.99192,
           -53.36,
           -5.4,
           0,
           7
          ],
          [
           "YOU",
           50,
           1629763200000000000,
           "49.85",
           2492.5,
           1630281600000000000,
           "46.75",
           2337.4798,
           -155.02,
           -6.22,
           0,
           6
          ]
         ],
         "hoverlabel": {
          "namelength": 0
         },
         "hovertemplate": "category=%{customdata[10]}<br>pct_gain/loss=%{customdata[9]}<br>symbol=%{customdata[0]}<br>quantity=%{customdata[1]}<br>opening_date=%{customdata[2]}<br>cost/share=%{customdata[3]}<br>total_cost=%{customdata[4]}<br>closing_date=%{customdata[5]}<br>price/share=%{customdata[6]}<br>proceeds=%{customdata[7]}<br>gain=%{customdata[8]}<br>days_held=%{customdata[11]}",
         "legendgroup": "loss",
         "marker": {
          "color": "#EF553B"
         },
         "name": "loss",
         "notched": true,
         "offsetgroup": "loss",
         "showlegend": false,
         "type": "box",
         "x": [
          -9.67,
          -9.49,
          -31.46,
          -40.38,
          -14.79,
          -9.71,
          -12.8,
          -11.39,
          -10.66,
          -9.83,
          -9.78,
          -3.11,
          -4.2,
          -17.36,
          -5.85,
          -4.38,
          -8.88,
          -2.53,
          -14.2,
          -9.55,
          -4.63,
          -8.12,
          -8.16,
          -5.04,
          -68.73,
          -6.82,
          -29.59,
          -4.09,
          -6.95,
          -0.94,
          -6.04,
          -6.22,
          -5.53,
          -5.96,
          -12.4,
          -7.02,
          -22.78,
          -0.98,
          0,
          -3.76,
          0,
          -2.26,
          -4.83,
          -10.58,
          -17.33,
          -2.59,
          -3.64,
          -1,
          -9.81,
          -12.36,
          -5.89,
          -5.95,
          -5.88,
          -0.57,
          -0.06,
          -5.3,
          -40.78,
          -25.06,
          -1.85,
          -3.14,
          -70.98,
          -57.26,
          -56.07,
          -41.17,
          -41.16,
          -49.49,
          -60.36,
          -62.39,
          -68.38,
          -69.2,
          -70.55,
          -70.9,
          -65.15,
          -40.06,
          -3.44,
          -0.63,
          -7.87,
          -1.17,
          -2.9,
          -5.38,
          -5.49,
          -7.08,
          -7.48,
          -8.54,
          -7.97,
          -7.94,
          -2.23,
          -15.74,
          -5.68,
          -19.31,
          -9.78,
          -9.17,
          -6.04,
          -10.12,
          -48.94,
          -4.28,
          -3.09,
          -7.1,
          -2.77,
          -3.29,
          -9.1,
          -39.4,
          -37.45,
          -26.55,
          -4.03,
          -4.22,
          -4.38,
          -11.68,
          -11.68,
          -4.53,
          -5.67,
          -1.74,
          -5.95,
          -4.43,
          0,
          0,
          -5.4,
          -6.22
         ],
         "xaxis": "x2",
         "yaxis": "y2"
        }
       ],
       "layout": {
        "barmode": "relative",
        "legend": {
         "title": {
          "text": "category"
         },
         "tracegroupgap": 0
        },
        "margin": {
         "t": 60
        },
        "template": {
         "data": {
          "bar": [
           {
            "error_x": {
             "color": "#2a3f5f"
            },
            "error_y": {
             "color": "#2a3f5f"
            },
            "marker": {
             "line": {
              "color": "#E5ECF6",
              "width": 0.5
             }
            },
            "type": "bar"
           }
          ],
          "barpolar": [
           {
            "marker": {
             "line": {
              "color": "#E5ECF6",
              "width": 0.5
             }
            },
            "type": "barpolar"
           }
          ],
          "carpet": [
           {
            "aaxis": {
             "endlinecolor": "#2a3f5f",
             "gridcolor": "white",
             "linecolor": "white",
             "minorgridcolor": "white",
             "startlinecolor": "#2a3f5f"
            },
            "baxis": {
             "endlinecolor": "#2a3f5f",
             "gridcolor": "white",
             "linecolor": "white",
             "minorgridcolor": "white",
             "startlinecolor": "#2a3f5f"
            },
            "type": "carpet"
           }
          ],
          "choropleth": [
           {
            "colorbar": {
             "outlinewidth": 0,
             "ticks": ""
            },
            "type": "choropleth"
           }
          ],
          "contour": [
           {
            "colorbar": {
             "outlinewidth": 0,
             "ticks": ""
            },
            "colorscale": [
             [
              0,
              "#0d0887"
             ],
             [
              0.1111111111111111,
              "#46039f"
             ],
             [
              0.2222222222222222,
              "#7201a8"
             ],
             [
              0.3333333333333333,
              "#9c179e"
             ],
             [
              0.4444444444444444,
              "#bd3786"
             ],
             [
              0.5555555555555556,
              "#d8576b"
             ],
             [
              0.6666666666666666,
              "#ed7953"
             ],
             [
              0.7777777777777778,
              "#fb9f3a"
             ],
             [
              0.8888888888888888,
              "#fdca26"
             ],
             [
              1,
              "#f0f921"
             ]
            ],
            "type": "contour"
           }
          ],
          "contourcarpet": [
           {
            "colorbar": {
             "outlinewidth": 0,
             "ticks": ""
            },
            "type": "contourcarpet"
           }
          ],
          "heatmap": [
           {
            "colorbar": {
             "outlinewidth": 0,
             "ticks": ""
            },
            "colorscale": [
             [
              0,
              "#0d0887"
             ],
             [
              0.1111111111111111,
              "#46039f"
             ],
             [
              0.2222222222222222,
              "#7201a8"
             ],
             [
              0.3333333333333333,
              "#9c179e"
             ],
             [
              0.4444444444444444,
              "#bd3786"
             ],
             [
              0.5555555555555556,
              "#d8576b"
             ],
             [
              0.6666666666666666,
              "#ed7953"
             ],
             [
              0.7777777777777778,
              "#fb9f3a"
             ],
             [
              0.8888888888888888,
              "#fdca26"
             ],
             [
              1,
              "#f0f921"
             ]
            ],
            "type": "heatmap"
           }
          ],
          "heatmapgl": [
           {
            "colorbar": {
             "outlinewidth": 0,
             "ticks": ""
            },
            "colorscale": [
             [
              0,
              "#0d0887"
             ],
             [
              0.1111111111111111,
              "#46039f"
             ],
             [
              0.2222222222222222,
              "#7201a8"
             ],
             [
              0.3333333333333333,
              "#9c179e"
             ],
             [
              0.4444444444444444,
              "#bd3786"
             ],
             [
              0.5555555555555556,
              "#d8576b"
             ],
             [
              0.6666666666666666,
              "#ed7953"
             ],
             [
              0.7777777777777778,
              "#fb9f3a"
             ],
             [
              0.8888888888888888,
              "#fdca26"
             ],
             [
              1,
              "#f0f921"
             ]
            ],
            "type": "heatmapgl"
           }
          ],
          "histogram": [
           {
            "marker": {
             "colorbar": {
              "outlinewidth": 0,
              "ticks": ""
             }
            },
            "type": "histogram"
           }
          ],
          "histogram2d": [
           {
            "colorbar": {
             "outlinewidth": 0,
             "ticks": ""
            },
            "colorscale": [
             [
              0,
              "#0d0887"
             ],
             [
              0.1111111111111111,
              "#46039f"
             ],
             [
              0.2222222222222222,
              "#7201a8"
             ],
             [
              0.3333333333333333,
              "#9c179e"
             ],
             [
              0.4444444444444444,
              "#bd3786"
             ],
             [
              0.5555555555555556,
              "#d8576b"
             ],
             [
              0.6666666666666666,
              "#ed7953"
             ],
             [
              0.7777777777777778,
              "#fb9f3a"
             ],
             [
              0.8888888888888888,
              "#fdca26"
             ],
             [
              1,
              "#f0f921"
             ]
            ],
            "type": "histogram2d"
           }
          ],
          "histogram2dcontour": [
           {
            "colorbar": {
             "outlinewidth": 0,
             "ticks": ""
            },
            "colorscale": [
             [
              0,
              "#0d0887"
             ],
             [
              0.1111111111111111,
              "#46039f"
             ],
             [
              0.2222222222222222,
              "#7201a8"
             ],
             [
              0.3333333333333333,
              "#9c179e"
             ],
             [
              0.4444444444444444,
              "#bd3786"
             ],
             [
              0.5555555555555556,
              "#d8576b"
             ],
             [
              0.6666666666666666,
              "#ed7953"
             ],
             [
              0.7777777777777778,
              "#fb9f3a"
             ],
             [
              0.8888888888888888,
              "#fdca26"
             ],
             [
              1,
              "#f0f921"
             ]
            ],
            "type": "histogram2dcontour"
           }
          ],
          "mesh3d": [
           {
            "colorbar": {
             "outlinewidth": 0,
             "ticks": ""
            },
            "type": "mesh3d"
           }
          ],
          "parcoords": [
           {
            "line": {
             "colorbar": {
              "outlinewidth": 0,
              "ticks": ""
             }
            },
            "type": "parcoords"
           }
          ],
          "pie": [
           {
            "automargin": true,
            "type": "pie"
           }
          ],
          "scatter": [
           {
            "marker": {
             "colorbar": {
              "outlinewidth": 0,
              "ticks": ""
             }
            },
            "type": "scatter"
           }
          ],
          "scatter3d": [
           {
            "line": {
             "colorbar": {
              "outlinewidth": 0,
              "ticks": ""
             }
            },
            "marker": {
             "colorbar": {
              "outlinewidth": 0,
              "ticks": ""
             }
            },
            "type": "scatter3d"
           }
          ],
          "scattercarpet": [
           {
            "marker": {
             "colorbar": {
              "outlinewidth": 0,
              "ticks": ""
             }
            },
            "type": "scattercarpet"
           }
          ],
          "scattergeo": [
           {
            "marker": {
             "colorbar": {
              "outlinewidth": 0,
              "ticks": ""
             }
            },
            "type": "scattergeo"
           }
          ],
          "scattergl": [
           {
            "marker": {
             "colorbar": {
              "outlinewidth": 0,
              "ticks": ""
             }
            },
            "type": "scattergl"
           }
          ],
          "scattermapbox": [
           {
            "marker": {
             "colorbar": {
              "outlinewidth": 0,
              "ticks": ""
             }
            },
            "type": "scattermapbox"
           }
          ],
          "scatterpolar": [
           {
            "marker": {
             "colorbar": {
              "outlinewidth": 0,
              "ticks": ""
             }
            },
            "type": "scatterpolar"
           }
          ],
          "scatterpolargl": [
           {
            "marker": {
             "colorbar": {
              "outlinewidth": 0,
              "ticks": ""
             }
            },
            "type": "scatterpolargl"
           }
          ],
          "scatterternary": [
           {
            "marker": {
             "colorbar": {
              "outlinewidth": 0,
              "ticks": ""
             }
            },
            "type": "scatterternary"
           }
          ],
          "surface": [
           {
            "colorbar": {
             "outlinewidth": 0,
             "ticks": ""
            },
            "colorscale": [
             [
              0,
              "#0d0887"
             ],
             [
              0.1111111111111111,
              "#46039f"
             ],
             [
              0.2222222222222222,
              "#7201a8"
             ],
             [
              0.3333333333333333,
              "#9c179e"
             ],
             [
              0.4444444444444444,
              "#bd3786"
             ],
             [
              0.5555555555555556,
              "#d8576b"
             ],
             [
              0.6666666666666666,
              "#ed7953"
             ],
             [
              0.7777777777777778,
              "#fb9f3a"
             ],
             [
              0.8888888888888888,
              "#fdca26"
             ],
             [
              1,
              "#f0f921"
             ]
            ],
            "type": "surface"
           }
          ],
          "table": [
           {
            "cells": {
             "fill": {
              "color": "#EBF0F8"
             },
             "line": {
              "color": "white"
             }
            },
            "header": {
             "fill": {
              "color": "#C8D4E3"
             },
             "line": {
              "color": "white"
             }
            },
            "type": "table"
           }
          ]
         },
         "layout": {
          "annotationdefaults": {
           "arrowcolor": "#2a3f5f",
           "arrowhead": 0,
           "arrowwidth": 1
          },
          "coloraxis": {
           "colorbar": {
            "outlinewidth": 0,
            "ticks": ""
           }
          },
          "colorscale": {
           "diverging": [
            [
             0,
             "#8e0152"
            ],
            [
             0.1,
             "#c51b7d"
            ],
            [
             0.2,
             "#de77ae"
            ],
            [
             0.3,
             "#f1b6da"
            ],
            [
             0.4,
             "#fde0ef"
            ],
            [
             0.5,
             "#f7f7f7"
            ],
            [
             0.6,
             "#e6f5d0"
            ],
            [
             0.7,
             "#b8e186"
            ],
            [
             0.8,
             "#7fbc41"
            ],
            [
             0.9,
             "#4d9221"
            ],
            [
             1,
             "#276419"
            ]
           ],
           "sequential": [
            [
             0,
             "#0d0887"
            ],
            [
             0.1111111111111111,
             "#46039f"
            ],
            [
             0.2222222222222222,
             "#7201a8"
            ],
            [
             0.3333333333333333,
             "#9c179e"
            ],
            [
             0.4444444444444444,
             "#bd3786"
            ],
            [
             0.5555555555555556,
             "#d8576b"
            ],
            [
             0.6666666666666666,
             "#ed7953"
            ],
            [
             0.7777777777777778,
             "#fb9f3a"
            ],
            [
             0.8888888888888888,
             "#fdca26"
            ],
            [
             1,
             "#f0f921"
            ]
           ],
           "sequentialminus": [
            [
             0,
             "#0d0887"
            ],
            [
             0.1111111111111111,
             "#46039f"
            ],
            [
             0.2222222222222222,
             "#7201a8"
            ],
            [
             0.3333333333333333,
             "#9c179e"
            ],
            [
             0.4444444444444444,
             "#bd3786"
            ],
            [
             0.5555555555555556,
             "#d8576b"
            ],
            [
             0.6666666666666666,
             "#ed7953"
            ],
            [
             0.7777777777777778,
             "#fb9f3a"
            ],
            [
             0.8888888888888888,
             "#fdca26"
            ],
            [
             1,
             "#f0f921"
            ]
           ]
          },
          "colorway": [
           "#636efa",
           "#EF553B",
           "#00cc96",
           "#ab63fa",
           "#FFA15A",
           "#19d3f3",
           "#FF6692",
           "#B6E880",
           "#FF97FF",
           "#FECB52"
          ],
          "font": {
           "color": "#2a3f5f"
          },
          "geo": {
           "bgcolor": "white",
           "lakecolor": "white",
           "landcolor": "#E5ECF6",
           "showlakes": true,
           "showland": true,
           "subunitcolor": "white"
          },
          "hoverlabel": {
           "align": "left"
          },
          "hovermode": "closest",
          "mapbox": {
           "style": "light"
          },
          "paper_bgcolor": "white",
          "plot_bgcolor": "#E5ECF6",
          "polar": {
           "angularaxis": {
            "gridcolor": "white",
            "linecolor": "white",
            "ticks": ""
           },
           "bgcolor": "#E5ECF6",
           "radialaxis": {
            "gridcolor": "white",
            "linecolor": "white",
            "ticks": ""
           }
          },
          "scene": {
           "xaxis": {
            "backgroundcolor": "#E5ECF6",
            "gridcolor": "white",
            "gridwidth": 2,
            "linecolor": "white",
            "showbackground": true,
            "ticks": "",
            "zerolinecolor": "white"
           },
           "yaxis": {
            "backgroundcolor": "#E5ECF6",
            "gridcolor": "white",
            "gridwidth": 2,
            "linecolor": "white",
            "showbackground": true,
            "ticks": "",
            "zerolinecolor": "white"
           },
           "zaxis": {
            "backgroundcolor": "#E5ECF6",
            "gridcolor": "white",
            "gridwidth": 2,
            "linecolor": "white",
            "showbackground": true,
            "ticks": "",
            "zerolinecolor": "white"
           }
          },
          "shapedefaults": {
           "line": {
            "color": "#2a3f5f"
           }
          },
          "ternary": {
           "aaxis": {
            "gridcolor": "white",
            "linecolor": "white",
            "ticks": ""
           },
           "baxis": {
            "gridcolor": "white",
            "linecolor": "white",
            "ticks": ""
           },
           "bgcolor": "#E5ECF6",
           "caxis": {
            "gridcolor": "white",
            "linecolor": "white",
            "ticks": ""
           }
          },
          "title": {
           "x": 0.05
          },
          "xaxis": {
           "automargin": true,
           "gridcolor": "white",
           "linecolor": "white",
           "ticks": "",
           "title": {
            "standoff": 15
           },
           "zerolinecolor": "white",
           "zerolinewidth": 2
          },
          "yaxis": {
           "automargin": true,
           "gridcolor": "white",
           "linecolor": "white",
           "ticks": "",
           "title": {
            "standoff": 15
           },
           "zerolinecolor": "white",
           "zerolinewidth": 2
          }
         }
        },
        "xaxis": {
         "anchor": "y",
         "domain": [
          0,
          1
         ],
         "title": {
          "text": "pct_gain/loss"
         }
        },
        "xaxis2": {
         "anchor": "y2",
         "domain": [
          0,
          1
         ],
         "matches": "x",
         "showgrid": true,
         "showticklabels": false
        },
        "yaxis": {
         "anchor": "x",
         "domain": [
          0,
          0.7326
         ],
         "title": {
          "text": "count"
         }
        },
        "yaxis2": {
         "anchor": "x2",
         "domain": [
          0.7426,
          1
         ],
         "matches": "y2",
         "showgrid": false,
         "showline": false,
         "showticklabels": false,
         "ticks": ""
        }
       }
      }
     },
     "metadata": {},
     "output_type": "display_data"
    }
   ],
   "source": [
    "fig = px.histogram(\n",
    "        less_than_100_pct, x=\"pct_gain/loss\",\n",
    "        marginal='box', color='category',\n",
    "        hover_data=less_than_100_pct.columns,\n",
    "        nbins=200)\n",
    "\n",
    "fig.show()"
   ]
  },
  {
   "cell_type": "code",
   "execution_count": null,
   "metadata": {},
   "outputs": [],
   "source": []
  },
  {
   "cell_type": "markdown",
   "metadata": {},
   "source": [
    "# Additions\n",
    "\n",
    "- Comparison of last 30 days to last 90, YTD, TTM\n",
    "- Cumulative count of winning trades losing trades over time\n",
    "- x axis values - show max values of the data"
   ]
  },
  {
   "cell_type": "code",
   "execution_count": 97,
   "metadata": {},
   "outputs": [
    {
     "data": {
      "text/html": [
       "<div>\n",
       "<style scoped>\n",
       "    .dataframe tbody tr th:only-of-type {\n",
       "        vertical-align: middle;\n",
       "    }\n",
       "\n",
       "    .dataframe tbody tr th {\n",
       "        vertical-align: top;\n",
       "    }\n",
       "\n",
       "    .dataframe thead th {\n",
       "        text-align: right;\n",
       "    }\n",
       "</style>\n",
       "<table border=\"1\" class=\"dataframe\">\n",
       "  <thead>\n",
       "    <tr style=\"text-align: right;\">\n",
       "      <th></th>\n",
       "      <th>symbol</th>\n",
       "      <th>quantity</th>\n",
       "      <th>opening_date</th>\n",
       "      <th>cost/share</th>\n",
       "      <th>total_cost</th>\n",
       "      <th>closing_date</th>\n",
       "      <th>price/share</th>\n",
       "      <th>proceeds</th>\n",
       "      <th>gain</th>\n",
       "      <th>pct_gain/loss</th>\n",
       "      <th>category</th>\n",
       "      <th>days_held</th>\n",
       "    </tr>\n",
       "  </thead>\n",
       "  <tbody>\n",
       "    <tr>\n",
       "      <th>83</th>\n",
       "      <td>CCRN</td>\n",
       "      <td>228.0</td>\n",
       "      <td>2021-06-11</td>\n",
       "      <td>17.51</td>\n",
       "      <td>3992.28</td>\n",
       "      <td>2021-06-22</td>\n",
       "      <td>17.53</td>\n",
       "      <td>3996.780036</td>\n",
       "      <td>4.50</td>\n",
       "      <td>0.11</td>\n",
       "      <td>gain</td>\n",
       "      <td>11</td>\n",
       "    </tr>\n",
       "    <tr>\n",
       "      <th>95</th>\n",
       "      <td>DIA</td>\n",
       "      <td>20.0</td>\n",
       "      <td>2021-06-05</td>\n",
       "      <td>347.55</td>\n",
       "      <td>6950.98</td>\n",
       "      <td>2021-06-07</td>\n",
       "      <td>348.39</td>\n",
       "      <td>6967.760000</td>\n",
       "      <td>16.78</td>\n",
       "      <td>0.24</td>\n",
       "      <td>gain</td>\n",
       "      <td>2</td>\n",
       "    </tr>\n",
       "    <tr>\n",
       "      <th>169</th>\n",
       "      <td>LCUT</td>\n",
       "      <td>250.0</td>\n",
       "      <td>2021-05-17</td>\n",
       "      <td>16.50</td>\n",
       "      <td>4125.00</td>\n",
       "      <td>2021-05-19</td>\n",
       "      <td>16.58</td>\n",
       "      <td>4144.415250</td>\n",
       "      <td>19.42</td>\n",
       "      <td>0.47</td>\n",
       "      <td>gain</td>\n",
       "      <td>2</td>\n",
       "    </tr>\n",
       "    <tr>\n",
       "      <th>183</th>\n",
       "      <td>MYRG</td>\n",
       "      <td>10.0</td>\n",
       "      <td>2021-07-03</td>\n",
       "      <td>90.41</td>\n",
       "      <td>904.10</td>\n",
       "      <td>2021-07-16</td>\n",
       "      <td>90.49</td>\n",
       "      <td>904.912000</td>\n",
       "      <td>0.81</td>\n",
       "      <td>0.09</td>\n",
       "      <td>gain</td>\n",
       "      <td>13</td>\n",
       "    </tr>\n",
       "    <tr>\n",
       "      <th>184</th>\n",
       "      <td>MYRG</td>\n",
       "      <td>15.0</td>\n",
       "      <td>2021-07-09</td>\n",
       "      <td>89.96</td>\n",
       "      <td>1349.40</td>\n",
       "      <td>2021-07-16</td>\n",
       "      <td>90.49</td>\n",
       "      <td>1357.368000</td>\n",
       "      <td>7.97</td>\n",
       "      <td>0.59</td>\n",
       "      <td>gain</td>\n",
       "      <td>7</td>\n",
       "    </tr>\n",
       "    <tr>\n",
       "      <th>198</th>\n",
       "      <td>OCGN</td>\n",
       "      <td>125.0</td>\n",
       "      <td>2021-06-25</td>\n",
       "      <td>8.25</td>\n",
       "      <td>1031.25</td>\n",
       "      <td>2021-06-30</td>\n",
       "      <td>8.30</td>\n",
       "      <td>1037.475000</td>\n",
       "      <td>6.22</td>\n",
       "      <td>0.60</td>\n",
       "      <td>gain</td>\n",
       "      <td>5</td>\n",
       "    </tr>\n",
       "    <tr>\n",
       "      <th>226</th>\n",
       "      <td>SHOP</td>\n",
       "      <td>1.0</td>\n",
       "      <td>2021-07-08</td>\n",
       "      <td>1572.00</td>\n",
       "      <td>1572.00</td>\n",
       "      <td>2021-07-07</td>\n",
       "      <td>1585.59</td>\n",
       "      <td>1585.590000</td>\n",
       "      <td>13.59</td>\n",
       "      <td>0.86</td>\n",
       "      <td>gain</td>\n",
       "      <td>-1</td>\n",
       "    </tr>\n",
       "  </tbody>\n",
       "</table>\n",
       "</div>"
      ],
      "text/plain": [
       "    symbol  quantity opening_date cost/share  total_cost closing_date  \\\n",
       "83    CCRN     228.0   2021-06-11      17.51     3992.28   2021-06-22   \n",
       "95     DIA      20.0   2021-06-05     347.55     6950.98   2021-06-07   \n",
       "169   LCUT     250.0   2021-05-17      16.50     4125.00   2021-05-19   \n",
       "183   MYRG      10.0   2021-07-03      90.41      904.10   2021-07-16   \n",
       "184   MYRG      15.0   2021-07-09      89.96     1349.40   2021-07-16   \n",
       "198   OCGN     125.0   2021-06-25       8.25     1031.25   2021-06-30   \n",
       "226   SHOP       1.0   2021-07-08    1572.00     1572.00   2021-07-07   \n",
       "\n",
       "    price/share     proceeds   gain  pct_gain/loss category  days_held  \n",
       "83        17.53  3996.780036   4.50           0.11     gain         11  \n",
       "95       348.39  6967.760000  16.78           0.24     gain          2  \n",
       "169       16.58  4144.415250  19.42           0.47     gain          2  \n",
       "183       90.49   904.912000   0.81           0.09     gain         13  \n",
       "184       90.49  1357.368000   7.97           0.59     gain          7  \n",
       "198        8.30  1037.475000   6.22           0.60     gain          5  \n",
       "226     1585.59  1585.590000  13.59           0.86     gain         -1  "
      ]
     },
     "execution_count": 97,
     "metadata": {},
     "output_type": "execute_result"
    }
   ],
   "source": [
    "less_than_100_pct[(less_than_100_pct['pct_gain/loss']<1) & (less_than_100_pct['category'] == 'gain')]"
   ]
  },
  {
   "cell_type": "code",
   "execution_count": 100,
   "metadata": {},
   "outputs": [
    {
     "data": {
      "text/html": [
       "<div>\n",
       "<style scoped>\n",
       "    .dataframe tbody tr th:only-of-type {\n",
       "        vertical-align: middle;\n",
       "    }\n",
       "\n",
       "    .dataframe tbody tr th {\n",
       "        vertical-align: top;\n",
       "    }\n",
       "\n",
       "    .dataframe thead th {\n",
       "        text-align: right;\n",
       "    }\n",
       "</style>\n",
       "<table border=\"1\" class=\"dataframe\">\n",
       "  <thead>\n",
       "    <tr style=\"text-align: right;\">\n",
       "      <th></th>\n",
       "      <th>symbol</th>\n",
       "      <th>quantity</th>\n",
       "      <th>opening_date</th>\n",
       "      <th>cost/share</th>\n",
       "      <th>total_cost</th>\n",
       "      <th>closing_date</th>\n",
       "      <th>price/share</th>\n",
       "      <th>proceeds</th>\n",
       "      <th>gain</th>\n",
       "      <th>pct_gain/loss</th>\n",
       "      <th>category</th>\n",
       "      <th>days_held</th>\n",
       "    </tr>\n",
       "  </thead>\n",
       "  <tbody>\n",
       "    <tr>\n",
       "      <th>1</th>\n",
       "      <td>AAPL</td>\n",
       "      <td>20.00000</td>\n",
       "      <td>2021-06-17</td>\n",
       "      <td>130.09</td>\n",
       "      <td>2601.75</td>\n",
       "      <td>2021-07-16</td>\n",
       "      <td>146.28</td>\n",
       "      <td>2925.632860</td>\n",
       "      <td>323.88</td>\n",
       "      <td>12.45</td>\n",
       "      <td>gain</td>\n",
       "      <td>29</td>\n",
       "    </tr>\n",
       "    <tr>\n",
       "      <th>2</th>\n",
       "      <td>AAPL</td>\n",
       "      <td>15.00000</td>\n",
       "      <td>2021-07-03</td>\n",
       "      <td>138.86</td>\n",
       "      <td>2082.98</td>\n",
       "      <td>2021-07-16</td>\n",
       "      <td>146.28</td>\n",
       "      <td>2194.224645</td>\n",
       "      <td>111.25</td>\n",
       "      <td>5.34</td>\n",
       "      <td>gain</td>\n",
       "      <td>13</td>\n",
       "    </tr>\n",
       "    <tr>\n",
       "      <th>4</th>\n",
       "      <td>ACB</td>\n",
       "      <td>80.00000</td>\n",
       "      <td>2020-10-20</td>\n",
       "      <td>4.36</td>\n",
       "      <td>349.20</td>\n",
       "      <td>2021-03-11</td>\n",
       "      <td>10.35</td>\n",
       "      <td>828.068000</td>\n",
       "      <td>478.87</td>\n",
       "      <td>137.13</td>\n",
       "      <td>gain</td>\n",
       "      <td>142</td>\n",
       "    </tr>\n",
       "    <tr>\n",
       "      <th>5</th>\n",
       "      <td>ACB</td>\n",
       "      <td>95.00000</td>\n",
       "      <td>2021-03-22</td>\n",
       "      <td>9.85</td>\n",
       "      <td>935.49</td>\n",
       "      <td>2021-04-30</td>\n",
       "      <td>8.89</td>\n",
       "      <td>845.009230</td>\n",
       "      <td>-90.48</td>\n",
       "      <td>-9.67</td>\n",
       "      <td>loss</td>\n",
       "      <td>39</td>\n",
       "    </tr>\n",
       "    <tr>\n",
       "      <th>6</th>\n",
       "      <td>ACB</td>\n",
       "      <td>100.00000</td>\n",
       "      <td>2021-03-04</td>\n",
       "      <td>9.83</td>\n",
       "      <td>982.78</td>\n",
       "      <td>2021-04-30</td>\n",
       "      <td>8.89</td>\n",
       "      <td>889.483400</td>\n",
       "      <td>-93.30</td>\n",
       "      <td>-9.49</td>\n",
       "      <td>loss</td>\n",
       "      <td>57</td>\n",
       "    </tr>\n",
       "    <tr>\n",
       "      <th>...</th>\n",
       "      <td>...</td>\n",
       "      <td>...</td>\n",
       "      <td>...</td>\n",
       "      <td>...</td>\n",
       "      <td>...</td>\n",
       "      <td>...</td>\n",
       "      <td>...</td>\n",
       "      <td>...</td>\n",
       "      <td>...</td>\n",
       "      <td>...</td>\n",
       "      <td>...</td>\n",
       "      <td>...</td>\n",
       "    </tr>\n",
       "    <tr>\n",
       "      <th>274</th>\n",
       "      <td>VWO</td>\n",
       "      <td>0.01778</td>\n",
       "      <td>2021-03-26</td>\n",
       "      <td>50.63</td>\n",
       "      <td>0.90</td>\n",
       "      <td>2021-03-30</td>\n",
       "      <td>51.51</td>\n",
       "      <td>0.915865</td>\n",
       "      <td>0.00</td>\n",
       "      <td>0.00</td>\n",
       "      <td>loss</td>\n",
       "      <td>4</td>\n",
       "    </tr>\n",
       "    <tr>\n",
       "      <th>275</th>\n",
       "      <td>VWO</td>\n",
       "      <td>0.13158</td>\n",
       "      <td>2020-09-25</td>\n",
       "      <td>42.03</td>\n",
       "      <td>5.53</td>\n",
       "      <td>2021-03-30</td>\n",
       "      <td>51.51</td>\n",
       "      <td>6.777808</td>\n",
       "      <td>1.25</td>\n",
       "      <td>22.60</td>\n",
       "      <td>gain</td>\n",
       "      <td>186</td>\n",
       "    </tr>\n",
       "    <tr>\n",
       "      <th>276</th>\n",
       "      <td>VWO</td>\n",
       "      <td>0.08087</td>\n",
       "      <td>2020-12-25</td>\n",
       "      <td>48.84</td>\n",
       "      <td>3.95</td>\n",
       "      <td>2021-03-30</td>\n",
       "      <td>51.51</td>\n",
       "      <td>4.165689</td>\n",
       "      <td>0.22</td>\n",
       "      <td>5.57</td>\n",
       "      <td>gain</td>\n",
       "      <td>95</td>\n",
       "    </tr>\n",
       "    <tr>\n",
       "      <th>278</th>\n",
       "      <td>YOU</td>\n",
       "      <td>20.00000</td>\n",
       "      <td>2021-08-23</td>\n",
       "      <td>49.42</td>\n",
       "      <td>988.35</td>\n",
       "      <td>2021-08-30</td>\n",
       "      <td>46.75</td>\n",
       "      <td>934.991920</td>\n",
       "      <td>-53.36</td>\n",
       "      <td>-5.40</td>\n",
       "      <td>loss</td>\n",
       "      <td>7</td>\n",
       "    </tr>\n",
       "    <tr>\n",
       "      <th>279</th>\n",
       "      <td>YOU</td>\n",
       "      <td>50.00000</td>\n",
       "      <td>2021-08-24</td>\n",
       "      <td>49.85</td>\n",
       "      <td>2492.50</td>\n",
       "      <td>2021-08-30</td>\n",
       "      <td>46.75</td>\n",
       "      <td>2337.479800</td>\n",
       "      <td>-155.02</td>\n",
       "      <td>-6.22</td>\n",
       "      <td>loss</td>\n",
       "      <td>6</td>\n",
       "    </tr>\n",
       "  </tbody>\n",
       "</table>\n",
       "<p>211 rows × 12 columns</p>\n",
       "</div>"
      ],
      "text/plain": [
       "    symbol   quantity opening_date cost/share  total_cost closing_date  \\\n",
       "1     AAPL   20.00000   2021-06-17     130.09     2601.75   2021-07-16   \n",
       "2     AAPL   15.00000   2021-07-03     138.86     2082.98   2021-07-16   \n",
       "4      ACB   80.00000   2020-10-20       4.36      349.20   2021-03-11   \n",
       "5      ACB   95.00000   2021-03-22       9.85      935.49   2021-04-30   \n",
       "6      ACB  100.00000   2021-03-04       9.83      982.78   2021-04-30   \n",
       "..     ...        ...          ...        ...         ...          ...   \n",
       "274    VWO    0.01778   2021-03-26      50.63        0.90   2021-03-30   \n",
       "275    VWO    0.13158   2020-09-25      42.03        5.53   2021-03-30   \n",
       "276    VWO    0.08087   2020-12-25      48.84        3.95   2021-03-30   \n",
       "278    YOU   20.00000   2021-08-23      49.42      988.35   2021-08-30   \n",
       "279    YOU   50.00000   2021-08-24      49.85     2492.50   2021-08-30   \n",
       "\n",
       "    price/share     proceeds    gain  pct_gain/loss category  days_held  \n",
       "1        146.28  2925.632860  323.88          12.45     gain         29  \n",
       "2        146.28  2194.224645  111.25           5.34     gain         13  \n",
       "4         10.35   828.068000  478.87         137.13     gain        142  \n",
       "5          8.89   845.009230  -90.48          -9.67     loss         39  \n",
       "6          8.89   889.483400  -93.30          -9.49     loss         57  \n",
       "..          ...          ...     ...            ...      ...        ...  \n",
       "274       51.51     0.915865    0.00           0.00     loss          4  \n",
       "275       51.51     6.777808    1.25          22.60     gain        186  \n",
       "276       51.51     4.165689    0.22           5.57     gain         95  \n",
       "278       46.75   934.991920  -53.36          -5.40     loss          7  \n",
       "279       46.75  2337.479800 -155.02          -6.22     loss          6  \n",
       "\n",
       "[211 rows x 12 columns]"
      ]
     },
     "execution_count": 100,
     "metadata": {},
     "output_type": "execute_result"
    }
   ],
   "source": [
    "tax_lot_df"
   ]
  },
  {
   "cell_type": "code",
   "execution_count": null,
   "metadata": {},
   "outputs": [],
   "source": []
  }
 ],
 "metadata": {
  "kernelspec": {
   "display_name": "Python 3.8.2 ('python': venv)",
   "language": "python",
   "name": "python3"
  },
  "language_info": {
   "codemirror_mode": {
    "name": "ipython",
    "version": 3
   },
   "file_extension": ".py",
   "mimetype": "text/x-python",
   "name": "python",
   "nbconvert_exporter": "python",
   "pygments_lexer": "ipython3",
   "version": "3.8.2"
  },
  "orig_nbformat": 4,
  "vscode": {
   "interpreter": {
    "hash": "2fa7a19d9e4f2de6dae0564aab5411a770f08beec5543b5030af84d5ee1b61d7"
   }
  }
 },
 "nbformat": 4,
 "nbformat_minor": 2
}
