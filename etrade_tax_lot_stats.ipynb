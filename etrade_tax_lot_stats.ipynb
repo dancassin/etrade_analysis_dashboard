{
 "cells": [
  {
   "cell_type": "markdown",
   "source": [
    "# File Download"
   ],
   "metadata": {}
  },
  {
   "cell_type": "code",
   "execution_count": 85,
   "source": [
    "import pandas as pd\n",
    "import numpy as np\n",
    "\n",
    "import datetime"
   ],
   "outputs": [],
   "metadata": {}
  },
  {
   "cell_type": "code",
   "execution_count": 86,
   "source": [
    "today = pd.to_datetime(datetime.date.today())\n",
    "\n",
    "year = today.year\n",
    "\n",
    "ytd = pd.to_datetime(f'01-01-{year}')\n",
    "\n",
    "t_minus_30 = today - datetime.timedelta(30)\n",
    "\n",
    "t_minus_90 = today - datetime.timedelta(90)"
   ],
   "outputs": [],
   "metadata": {}
  },
  {
   "cell_type": "code",
   "execution_count": 87,
   "source": [
    "ytd.value"
   ],
   "outputs": [
    {
     "output_type": "execute_result",
     "data": {
      "text/plain": [
       "1609459200000000000"
      ]
     },
     "metadata": {},
     "execution_count": 87
    }
   ],
   "metadata": {}
  },
  {
   "cell_type": "code",
   "execution_count": 112,
   "source": [
    "tax_lot_df = pd.read_csv('/Users/DanCassin/Development/python/minervini_stock_selector/TTM_tax_lots_083021.csv',\n",
    "            usecols=[\n",
    "                'Symbol', 'Quantity', 'Opening Date', 'Cost/Share $', 'Total Cost $',\n",
    "                'Closing Date',\t'Price/Share $', 'Proceeds $', 'Gain $'],\n",
    "            skiprows=13,\n",
    "            delimiter=',',\n",
    "            skipfooter=2,\n",
    "            engine='python'\n",
    ")"
   ],
   "outputs": [],
   "metadata": {}
  },
  {
   "cell_type": "code",
   "execution_count": 113,
   "source": [
    "tax_lot_df"
   ],
   "outputs": [
    {
     "output_type": "execute_result",
     "data": {
      "text/plain": [
       "       Symbol   Quantity Opening Date Cost/Share $  Total Cost $ Closing Date  \\\n",
       "0        AAPL   35.00000           --           --       4684.72           --   \n",
       "1        Sell   20.00000   06/17/2021       130.09       2601.75   07/16/2021   \n",
       "2        Sell   15.00000   07/03/2021       138.86       2082.98   07/16/2021   \n",
       "3         ACB  500.00000           --           --       4899.92           --   \n",
       "4        Sell   80.00000   10/20/2020         4.36        349.20   03/11/2021   \n",
       "..        ...        ...          ...          ...           ...          ...   \n",
       "275      Sell    0.13158   09/25/2020        42.03          5.53   03/30/2021   \n",
       "276      Sell    0.08087   12/25/2020        48.84          3.95   03/30/2021   \n",
       "277       YOU   70.00000           --           --       3480.85           --   \n",
       "278      Sell   20.00000   08/23/2021        49.42        988.35   08/30/2021   \n",
       "279      Sell   50.00000   08/24/2021        49.85       2492.50   08/30/2021   \n",
       "\n",
       "    Price/Share $   Proceeds $  Gain $  \n",
       "0              --  5119.857505  435.13  \n",
       "1          146.28  2925.632860  323.88  \n",
       "2          146.28  2194.224645  111.25  \n",
       "3              --  4563.898280 -336.02  \n",
       "4           10.35   828.068000  478.87  \n",
       "..            ...          ...     ...  \n",
       "275         51.51     6.777808    1.25  \n",
       "276         51.51     4.165689    0.22  \n",
       "277            --  3272.471720 -208.38  \n",
       "278         46.75   934.991920  -53.36  \n",
       "279         46.75  2337.479800 -155.02  \n",
       "\n",
       "[280 rows x 9 columns]"
      ],
      "text/html": [
       "<div>\n",
       "<style scoped>\n",
       "    .dataframe tbody tr th:only-of-type {\n",
       "        vertical-align: middle;\n",
       "    }\n",
       "\n",
       "    .dataframe tbody tr th {\n",
       "        vertical-align: top;\n",
       "    }\n",
       "\n",
       "    .dataframe thead th {\n",
       "        text-align: right;\n",
       "    }\n",
       "</style>\n",
       "<table border=\"1\" class=\"dataframe\">\n",
       "  <thead>\n",
       "    <tr style=\"text-align: right;\">\n",
       "      <th></th>\n",
       "      <th>Symbol</th>\n",
       "      <th>Quantity</th>\n",
       "      <th>Opening Date</th>\n",
       "      <th>Cost/Share $</th>\n",
       "      <th>Total Cost $</th>\n",
       "      <th>Closing Date</th>\n",
       "      <th>Price/Share $</th>\n",
       "      <th>Proceeds $</th>\n",
       "      <th>Gain $</th>\n",
       "    </tr>\n",
       "  </thead>\n",
       "  <tbody>\n",
       "    <tr>\n",
       "      <th>0</th>\n",
       "      <td>AAPL</td>\n",
       "      <td>35.00000</td>\n",
       "      <td>--</td>\n",
       "      <td>--</td>\n",
       "      <td>4684.72</td>\n",
       "      <td>--</td>\n",
       "      <td>--</td>\n",
       "      <td>5119.857505</td>\n",
       "      <td>435.13</td>\n",
       "    </tr>\n",
       "    <tr>\n",
       "      <th>1</th>\n",
       "      <td>Sell</td>\n",
       "      <td>20.00000</td>\n",
       "      <td>06/17/2021</td>\n",
       "      <td>130.09</td>\n",
       "      <td>2601.75</td>\n",
       "      <td>07/16/2021</td>\n",
       "      <td>146.28</td>\n",
       "      <td>2925.632860</td>\n",
       "      <td>323.88</td>\n",
       "    </tr>\n",
       "    <tr>\n",
       "      <th>2</th>\n",
       "      <td>Sell</td>\n",
       "      <td>15.00000</td>\n",
       "      <td>07/03/2021</td>\n",
       "      <td>138.86</td>\n",
       "      <td>2082.98</td>\n",
       "      <td>07/16/2021</td>\n",
       "      <td>146.28</td>\n",
       "      <td>2194.224645</td>\n",
       "      <td>111.25</td>\n",
       "    </tr>\n",
       "    <tr>\n",
       "      <th>3</th>\n",
       "      <td>ACB</td>\n",
       "      <td>500.00000</td>\n",
       "      <td>--</td>\n",
       "      <td>--</td>\n",
       "      <td>4899.92</td>\n",
       "      <td>--</td>\n",
       "      <td>--</td>\n",
       "      <td>4563.898280</td>\n",
       "      <td>-336.02</td>\n",
       "    </tr>\n",
       "    <tr>\n",
       "      <th>4</th>\n",
       "      <td>Sell</td>\n",
       "      <td>80.00000</td>\n",
       "      <td>10/20/2020</td>\n",
       "      <td>4.36</td>\n",
       "      <td>349.20</td>\n",
       "      <td>03/11/2021</td>\n",
       "      <td>10.35</td>\n",
       "      <td>828.068000</td>\n",
       "      <td>478.87</td>\n",
       "    </tr>\n",
       "    <tr>\n",
       "      <th>...</th>\n",
       "      <td>...</td>\n",
       "      <td>...</td>\n",
       "      <td>...</td>\n",
       "      <td>...</td>\n",
       "      <td>...</td>\n",
       "      <td>...</td>\n",
       "      <td>...</td>\n",
       "      <td>...</td>\n",
       "      <td>...</td>\n",
       "    </tr>\n",
       "    <tr>\n",
       "      <th>275</th>\n",
       "      <td>Sell</td>\n",
       "      <td>0.13158</td>\n",
       "      <td>09/25/2020</td>\n",
       "      <td>42.03</td>\n",
       "      <td>5.53</td>\n",
       "      <td>03/30/2021</td>\n",
       "      <td>51.51</td>\n",
       "      <td>6.777808</td>\n",
       "      <td>1.25</td>\n",
       "    </tr>\n",
       "    <tr>\n",
       "      <th>276</th>\n",
       "      <td>Sell</td>\n",
       "      <td>0.08087</td>\n",
       "      <td>12/25/2020</td>\n",
       "      <td>48.84</td>\n",
       "      <td>3.95</td>\n",
       "      <td>03/30/2021</td>\n",
       "      <td>51.51</td>\n",
       "      <td>4.165689</td>\n",
       "      <td>0.22</td>\n",
       "    </tr>\n",
       "    <tr>\n",
       "      <th>277</th>\n",
       "      <td>YOU</td>\n",
       "      <td>70.00000</td>\n",
       "      <td>--</td>\n",
       "      <td>--</td>\n",
       "      <td>3480.85</td>\n",
       "      <td>--</td>\n",
       "      <td>--</td>\n",
       "      <td>3272.471720</td>\n",
       "      <td>-208.38</td>\n",
       "    </tr>\n",
       "    <tr>\n",
       "      <th>278</th>\n",
       "      <td>Sell</td>\n",
       "      <td>20.00000</td>\n",
       "      <td>08/23/2021</td>\n",
       "      <td>49.42</td>\n",
       "      <td>988.35</td>\n",
       "      <td>08/30/2021</td>\n",
       "      <td>46.75</td>\n",
       "      <td>934.991920</td>\n",
       "      <td>-53.36</td>\n",
       "    </tr>\n",
       "    <tr>\n",
       "      <th>279</th>\n",
       "      <td>Sell</td>\n",
       "      <td>50.00000</td>\n",
       "      <td>08/24/2021</td>\n",
       "      <td>49.85</td>\n",
       "      <td>2492.50</td>\n",
       "      <td>08/30/2021</td>\n",
       "      <td>46.75</td>\n",
       "      <td>2337.479800</td>\n",
       "      <td>-155.02</td>\n",
       "    </tr>\n",
       "  </tbody>\n",
       "</table>\n",
       "<p>280 rows × 9 columns</p>\n",
       "</div>"
      ]
     },
     "metadata": {},
     "execution_count": 113
    }
   ],
   "metadata": {}
  },
  {
   "cell_type": "code",
   "execution_count": 114,
   "source": [
    "tax_lot_df.rename(columns = lambda x: x.lower().replace('$', '').strip().replace(' ','_'), inplace=True)\n",
    "#tax_lot_df.drop(['deferred_loss', 'term','lot_selection', 'unnamed:_12'], axis=1, inplace=True)"
   ],
   "outputs": [],
   "metadata": {}
  },
  {
   "cell_type": "code",
   "execution_count": 115,
   "source": [
    "tax_lot_df = tax_lot_df.replace('--', np.nan)\n",
    "tax_lot_df['symbol']= tax_lot_df['symbol'].str.strip()\n",
    "tax_lot_df['symbol'].replace('Sell', np.nan, inplace=True)\n",
    "tax_lot_df['symbol'] = tax_lot_df['symbol'].ffill()"
   ],
   "outputs": [],
   "metadata": {}
  },
  {
   "cell_type": "code",
   "execution_count": 116,
   "source": [
    "tax_lot_df.dropna(subset=['opening_date'], inplace=True)"
   ],
   "outputs": [],
   "metadata": {}
  },
  {
   "cell_type": "code",
   "execution_count": 117,
   "source": [
    "tax_lot_df['opening_date'] = tax_lot_df['opening_date'].astype('Datetime64')\n",
    "tax_lot_df['closing_date'] = tax_lot_df['closing_date'].astype('Datetime64')"
   ],
   "outputs": [],
   "metadata": {}
  },
  {
   "cell_type": "code",
   "execution_count": 118,
   "source": [
    "tax_lot_df['pct_gain/loss'] = round((tax_lot_df['gain'] / tax_lot_df['total_cost']) * 100, 2)"
   ],
   "outputs": [],
   "metadata": {}
  },
  {
   "cell_type": "code",
   "execution_count": 119,
   "source": [
    "tax_lot_df.head()"
   ],
   "outputs": [
    {
     "output_type": "execute_result",
     "data": {
      "text/plain": [
       "  symbol  quantity opening_date cost/share  total_cost closing_date  \\\n",
       "1   AAPL      20.0   2021-06-17     130.09     2601.75   2021-07-16   \n",
       "2   AAPL      15.0   2021-07-03     138.86     2082.98   2021-07-16   \n",
       "4    ACB      80.0   2020-10-20       4.36      349.20   2021-03-11   \n",
       "5    ACB      95.0   2021-03-22       9.85      935.49   2021-04-30   \n",
       "6    ACB     100.0   2021-03-04       9.83      982.78   2021-04-30   \n",
       "\n",
       "  price/share     proceeds    gain  pct_gain/loss  \n",
       "1      146.28  2925.632860  323.88          12.45  \n",
       "2      146.28  2194.224645  111.25           5.34  \n",
       "4       10.35   828.068000  478.87         137.13  \n",
       "5        8.89   845.009230  -90.48          -9.67  \n",
       "6        8.89   889.483400  -93.30          -9.49  "
      ],
      "text/html": [
       "<div>\n",
       "<style scoped>\n",
       "    .dataframe tbody tr th:only-of-type {\n",
       "        vertical-align: middle;\n",
       "    }\n",
       "\n",
       "    .dataframe tbody tr th {\n",
       "        vertical-align: top;\n",
       "    }\n",
       "\n",
       "    .dataframe thead th {\n",
       "        text-align: right;\n",
       "    }\n",
       "</style>\n",
       "<table border=\"1\" class=\"dataframe\">\n",
       "  <thead>\n",
       "    <tr style=\"text-align: right;\">\n",
       "      <th></th>\n",
       "      <th>symbol</th>\n",
       "      <th>quantity</th>\n",
       "      <th>opening_date</th>\n",
       "      <th>cost/share</th>\n",
       "      <th>total_cost</th>\n",
       "      <th>closing_date</th>\n",
       "      <th>price/share</th>\n",
       "      <th>proceeds</th>\n",
       "      <th>gain</th>\n",
       "      <th>pct_gain/loss</th>\n",
       "    </tr>\n",
       "  </thead>\n",
       "  <tbody>\n",
       "    <tr>\n",
       "      <th>1</th>\n",
       "      <td>AAPL</td>\n",
       "      <td>20.0</td>\n",
       "      <td>2021-06-17</td>\n",
       "      <td>130.09</td>\n",
       "      <td>2601.75</td>\n",
       "      <td>2021-07-16</td>\n",
       "      <td>146.28</td>\n",
       "      <td>2925.632860</td>\n",
       "      <td>323.88</td>\n",
       "      <td>12.45</td>\n",
       "    </tr>\n",
       "    <tr>\n",
       "      <th>2</th>\n",
       "      <td>AAPL</td>\n",
       "      <td>15.0</td>\n",
       "      <td>2021-07-03</td>\n",
       "      <td>138.86</td>\n",
       "      <td>2082.98</td>\n",
       "      <td>2021-07-16</td>\n",
       "      <td>146.28</td>\n",
       "      <td>2194.224645</td>\n",
       "      <td>111.25</td>\n",
       "      <td>5.34</td>\n",
       "    </tr>\n",
       "    <tr>\n",
       "      <th>4</th>\n",
       "      <td>ACB</td>\n",
       "      <td>80.0</td>\n",
       "      <td>2020-10-20</td>\n",
       "      <td>4.36</td>\n",
       "      <td>349.20</td>\n",
       "      <td>2021-03-11</td>\n",
       "      <td>10.35</td>\n",
       "      <td>828.068000</td>\n",
       "      <td>478.87</td>\n",
       "      <td>137.13</td>\n",
       "    </tr>\n",
       "    <tr>\n",
       "      <th>5</th>\n",
       "      <td>ACB</td>\n",
       "      <td>95.0</td>\n",
       "      <td>2021-03-22</td>\n",
       "      <td>9.85</td>\n",
       "      <td>935.49</td>\n",
       "      <td>2021-04-30</td>\n",
       "      <td>8.89</td>\n",
       "      <td>845.009230</td>\n",
       "      <td>-90.48</td>\n",
       "      <td>-9.67</td>\n",
       "    </tr>\n",
       "    <tr>\n",
       "      <th>6</th>\n",
       "      <td>ACB</td>\n",
       "      <td>100.0</td>\n",
       "      <td>2021-03-04</td>\n",
       "      <td>9.83</td>\n",
       "      <td>982.78</td>\n",
       "      <td>2021-04-30</td>\n",
       "      <td>8.89</td>\n",
       "      <td>889.483400</td>\n",
       "      <td>-93.30</td>\n",
       "      <td>-9.49</td>\n",
       "    </tr>\n",
       "  </tbody>\n",
       "</table>\n",
       "</div>"
      ]
     },
     "metadata": {},
     "execution_count": 119
    }
   ],
   "metadata": {}
  },
  {
   "cell_type": "code",
   "execution_count": null,
   "source": [
    "tax_lot_df['pct_gain/loss'].hist(bins=50);"
   ],
   "outputs": [],
   "metadata": {}
  },
  {
   "cell_type": "code",
   "execution_count": null,
   "source": [
    "tax_lot_df['pct_gain/loss'].mean()"
   ],
   "outputs": [],
   "metadata": {}
  },
  {
   "cell_type": "code",
   "execution_count": null,
   "source": [
    "tax_lot_df['pct_gain/loss'].median()"
   ],
   "outputs": [],
   "metadata": {}
  },
  {
   "cell_type": "code",
   "execution_count": null,
   "source": [
    "tax_lot_df['days_held'] = (tax_lot_df['closing_date'] - tax_lot_df['opening_date']).dt.days"
   ],
   "outputs": [],
   "metadata": {}
  },
  {
   "cell_type": "code",
   "execution_count": null,
   "source": [
    "tax_lot_df['days_held'].hist(bins=50)"
   ],
   "outputs": [],
   "metadata": {}
  },
  {
   "cell_type": "code",
   "execution_count": null,
   "source": [
    "sub_df = tax_lot_df[['pct_gain/loss','days_held']]\n",
    "\n",
    "sub_df = sub_df[sub_df['pct_gain/loss'] <=100]\n",
    "\n",
    "sub_df.plot(kind='scatter', x='days_held', y='pct_gain/loss')"
   ],
   "outputs": [],
   "metadata": {}
  },
  {
   "cell_type": "code",
   "execution_count": null,
   "source": [
    "print(tax_lot_df['days_held'].mean())\n",
    "print(tax_lot_df['days_held'].median())"
   ],
   "outputs": [],
   "metadata": {}
  },
  {
   "cell_type": "code",
   "execution_count": null,
   "source": [
    "tax_lot_df['days_held']"
   ],
   "outputs": [],
   "metadata": {}
  },
  {
   "cell_type": "code",
   "execution_count": null,
   "source": [
    "last_90_days = tax_lot_df[tax_lot_df['opening_date'] > pd.to_datetime(t_minus_90)]"
   ],
   "outputs": [],
   "metadata": {}
  },
  {
   "cell_type": "code",
   "execution_count": null,
   "source": [
    "last_90_days['pct_gain/loss'].hist()"
   ],
   "outputs": [],
   "metadata": {}
  },
  {
   "cell_type": "code",
   "execution_count": null,
   "source": [
    "last_30_days = tax_lot_df[tax_lot_df['opening_date'] > pd.to_datetime(t_minus_30)]\n",
    "\n",
    "last_30_days['pct_gain/loss'].hist()"
   ],
   "outputs": [],
   "metadata": {}
  },
  {
   "cell_type": "code",
   "execution_count": null,
   "source": [
    "last_30_losses = last_30_days[last_30_days['pct_gain/loss'] < 0]\n",
    "\n",
    "round(last_30_losses['gain'].sum(),2)"
   ],
   "outputs": [],
   "metadata": {}
  },
  {
   "cell_type": "code",
   "execution_count": null,
   "source": [
    "last_30_gains = last_30_days[last_30_days['pct_gain/loss'] > 0]\n",
    "\n",
    "last_30_gains['gain'].sum()"
   ],
   "outputs": [],
   "metadata": {}
  },
  {
   "cell_type": "code",
   "execution_count": null,
   "source": [
    "total_trades_90_days = int(last_90_days.shape[0])\n",
    "\n",
    "pct_gain_trades_90 = (last_90_days[last_90_days['gain'] > 0].shape[0] / total_trades_90_days) * 100\n",
    "\n",
    "total_trades_30_days = int(last_30_days.shape[0])\n",
    "\n",
    "pct_gain_trades_30 = (last_30_days[last_30_days['gain'] > 0].shape[0] / total_trades_30_days) * 100\n",
    "\n",
    "print(f'Profitable Trades Last 30 Days:\\n{round(pct_gain_trades_30, 2)}%')\n",
    "\n",
    "print(f'Profitable Trades Last 90 Days:\\n{round(pct_gain_trades_90, 2)}%')"
   ],
   "outputs": [],
   "metadata": {}
  },
  {
   "cell_type": "code",
   "execution_count": null,
   "source": [
    "winning_trades = tax_lot_df[tax_lot_df['gain']> 0]\n",
    "losing_trades = tax_lot_df[tax_lot_df['gain'] < 0]\n",
    "\n",
    "total_winning_trades = winning_trades.shape[0]\n",
    "total_losing_trades = losing_trades.shape[0]\n",
    "\n",
    "avg_gain = round(winning_trades['gain'].mean(), 2)\n",
    "avg_loss = abs(round(losing_trades['gain'].mean(), 2))\n",
    "\n",
    "risk_reward = round((total_winning_trades * avg_gain) / (total_losing_trades * avg_loss), 2)\n",
    "\n",
    "print(f'Reward/Risk {risk_reward}')"
   ],
   "outputs": [],
   "metadata": {}
  },
  {
   "cell_type": "markdown",
   "source": [
    "# Additions\n",
    "\n",
    "- Comparison of last 30 days to last 90, YTD, TTM\n"
   ],
   "metadata": {}
  },
  {
   "cell_type": "code",
   "execution_count": null,
   "source": [],
   "outputs": [],
   "metadata": {}
  }
 ],
 "metadata": {
  "orig_nbformat": 4,
  "language_info": {
   "name": "python",
   "version": "3.8.2",
   "mimetype": "text/x-python",
   "codemirror_mode": {
    "name": "ipython",
    "version": 3
   },
   "pygments_lexer": "ipython3",
   "nbconvert_exporter": "python",
   "file_extension": ".py"
  },
  "kernelspec": {
   "name": "python3",
   "display_name": "Python 3.8.2 64-bit ('python': venv)"
  },
  "interpreter": {
   "hash": "c5d80f96737bd5c46a8a8d42c374848558bdc59a257a0ad66cfb310e84865d92"
  }
 },
 "nbformat": 4,
 "nbformat_minor": 2
}