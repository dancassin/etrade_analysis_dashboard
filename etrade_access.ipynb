{
 "metadata": {
  "language_info": {
   "codemirror_mode": {
    "name": "ipython",
    "version": 3
   },
   "file_extension": ".py",
   "mimetype": "text/x-python",
   "name": "python",
   "nbconvert_exporter": "python",
   "pygments_lexer": "ipython3",
   "version": "3.8.2"
  },
  "orig_nbformat": 2,
  "kernelspec": {
   "name": "python3",
   "display_name": "Python 3.8.2 64-bit ('python': venv)"
  },
  "interpreter": {
   "hash": "c5d80f96737bd5c46a8a8d42c374848558bdc59a257a0ad66cfb310e84865d92"
  }
 },
 "nbformat": 4,
 "nbformat_minor": 2,
 "cells": [
  {
   "cell_type": "markdown",
   "source": [
    "https://pyetrade.readthedocs.io/en/latest/pyetrade.html#module-pyetrade.accounts\n",
    "https://us.etrade.com/etx/ris/apikey"
   ],
   "metadata": {}
  },
  {
   "cell_type": "code",
   "execution_count": null,
   "source": [
    "from dotenv import load_dotenv\n",
    "import os\n",
    "import requests\n",
    "import json\n",
    "import datetime\n",
    "from datetime import timezone\n",
    "import pyetrade\n",
    "\n",
    "import pandas as pd\n",
    "import numpy as np\n",
    "\n",
    "load_dotenv()"
   ],
   "outputs": [],
   "metadata": {}
  },
  {
   "cell_type": "code",
   "execution_count": null,
   "source": [
    "today = datetime.date.today()\n",
    "\n",
    "t_minus_30 = today - datetime.timedelta(30)\n",
    "\n",
    "t_minus_90 = today - datetime.timedelta(90)"
   ],
   "outputs": [],
   "metadata": {}
  },
  {
   "cell_type": "code",
   "execution_count": null,
   "source": [
    "ETRADE_USERNAME         =   os.getenv('ETRADE_USERNAME')\n",
    "ETRADE_PASSWORD         =   os.getenv('ETRADE_PASSWORD')\n",
    "ETRADE_SANDBOX_TOKEN    =   os.getenv('ETRADE_SANDBOX_TOKEN')\n",
    "ETRADE_SANDBOX_SECRET   =   os.getenv('ETRADE_SANDBOX_SECRET') \n",
    "ETRADE_PROD_TOKEN       =   os.getenv('ETRADE_PROD_TOKEN')\n",
    "ETRADE_PROD_SECRET      =   os.getenv('ETRADE_PROD_SECRET') "
   ],
   "outputs": [],
   "metadata": {}
  },
  {
   "cell_type": "code",
   "execution_count": null,
   "source": [
    "oauth = pyetrade.ETradeOAuth(ETRADE_PROD_TOKEN, ETRADE_PROD_SECRET)\n",
    "request_token = oauth.get_request_token()\n",
    "print(request_token)  # Use the printed URL\n",
    "\n",
    "verifier_code = input(\"Enter verification code: \")\n",
    "tokens = oauth.get_access_token(verifier_code)\n",
    "print(tokens)"
   ],
   "outputs": [],
   "metadata": {}
  },
  {
   "cell_type": "code",
   "execution_count": null,
   "source": [
    "accounts = pyetrade.ETradeAccounts(\n",
    "    ETRADE_PROD_TOKEN,\n",
    "    ETRADE_PROD_SECRET,\n",
    "    tokens['oauth_token'],\n",
    "    tokens['oauth_token_secret'],\n",
    "    dev=False\n",
    ")"
   ],
   "outputs": [],
   "metadata": {}
  },
  {
   "cell_type": "code",
   "execution_count": null,
   "source": [
    "accounts_list = accounts.list_accounts(resp_format='json')"
   ],
   "outputs": [],
   "metadata": {}
  },
  {
   "cell_type": "code",
   "execution_count": null,
   "source": [
    "accounts_df = pd.json_normalize(accounts_list['AccountListResponse']['Accounts']['Account'])"
   ],
   "outputs": [],
   "metadata": {}
  },
  {
   "cell_type": "code",
   "execution_count": null,
   "source": [
    "accounts_df"
   ],
   "outputs": [],
   "metadata": {}
  },
  {
   "cell_type": "code",
   "execution_count": null,
   "source": [
    "\n",
    "ira = accounts_df[accounts_df['accountType']=='ROTHIRA']\n",
    "\n",
    "ira_key = str(ira['accountIdKey'].values[0])"
   ],
   "outputs": [],
   "metadata": {}
  },
  {
   "cell_type": "code",
   "execution_count": null,
   "source": [
    "ira_key"
   ],
   "outputs": [],
   "metadata": {}
  },
  {
   "cell_type": "code",
   "execution_count": null,
   "source": [
    "test_df = pd.json_normalize(accounts.list_transactions(str(ira_key), resp_format='json')['TransactionListResponse']['Transaction'])\n",
    "\n",
    "test_df.columns"
   ],
   "outputs": [],
   "metadata": {}
  },
  {
   "cell_type": "code",
   "execution_count": null,
   "source": [
    "test_df.iloc[:5,14:]"
   ],
   "outputs": [],
   "metadata": {}
  }
 ]
}